{
 "cells": [
  {
   "cell_type": "markdown",
   "metadata": {},
   "source": [
    "## Support Vector Machines"
   ]
  },
  {
   "cell_type": "markdown",
   "metadata": {},
   "source": [
    "### Import diabetes dataset and read the columns. Split the dataset into test and train. Scale it using MinMaxScaler"
   ]
  },
  {
   "cell_type": "code",
   "execution_count": 617,
   "metadata": {},
   "outputs": [],
   "source": [
    "from mpl_toolkits.mplot3d import Axes3D\n",
    "import matplotlib.pyplot as plt\n",
    "import matplotlib.cm as cm\n",
    "import pandas as pd\n",
    "import numpy as np\n",
    "import seaborn as sns \n",
    "from sklearn.model_selection import train_test_split\n",
    "from sklearn.preprocessing import StandardScaler\n",
    "from sklearn.svm import SVC\n",
    "from sklearn.metrics import confusion_matrix\n",
    "from sklearn.metrics import f1_score\n",
    "from sklearn.metrics import accuracy_score\n",
    "%matplotlib inline"
   ]
  },
  {
   "cell_type": "code",
   "execution_count": 618,
   "metadata": {},
   "outputs": [],
   "source": [
    "svmdata = pd.read_csv('diabetes.csv')"
   ]
  },
  {
   "cell_type": "code",
   "execution_count": 619,
   "metadata": {},
   "outputs": [
    {
     "data": {
      "text/html": [
       "<div>\n",
       "<style scoped>\n",
       "    .dataframe tbody tr th:only-of-type {\n",
       "        vertical-align: middle;\n",
       "    }\n",
       "\n",
       "    .dataframe tbody tr th {\n",
       "        vertical-align: top;\n",
       "    }\n",
       "\n",
       "    .dataframe thead th {\n",
       "        text-align: right;\n",
       "    }\n",
       "</style>\n",
       "<table border=\"1\" class=\"dataframe\">\n",
       "  <thead>\n",
       "    <tr style=\"text-align: right;\">\n",
       "      <th></th>\n",
       "      <th>Pregnancies</th>\n",
       "      <th>Glucose</th>\n",
       "      <th>BloodPressure</th>\n",
       "      <th>SkinThickness</th>\n",
       "      <th>Insulin</th>\n",
       "      <th>BMI</th>\n",
       "      <th>DiabetesPedigreeFunction</th>\n",
       "      <th>Age</th>\n",
       "      <th>Outcome</th>\n",
       "    </tr>\n",
       "  </thead>\n",
       "  <tbody>\n",
       "    <tr>\n",
       "      <th>0</th>\n",
       "      <td>6</td>\n",
       "      <td>148</td>\n",
       "      <td>72</td>\n",
       "      <td>35</td>\n",
       "      <td>0</td>\n",
       "      <td>33.6</td>\n",
       "      <td>0.627</td>\n",
       "      <td>50</td>\n",
       "      <td>1</td>\n",
       "    </tr>\n",
       "    <tr>\n",
       "      <th>1</th>\n",
       "      <td>1</td>\n",
       "      <td>85</td>\n",
       "      <td>66</td>\n",
       "      <td>29</td>\n",
       "      <td>0</td>\n",
       "      <td>26.6</td>\n",
       "      <td>0.351</td>\n",
       "      <td>31</td>\n",
       "      <td>0</td>\n",
       "    </tr>\n",
       "    <tr>\n",
       "      <th>2</th>\n",
       "      <td>8</td>\n",
       "      <td>183</td>\n",
       "      <td>64</td>\n",
       "      <td>0</td>\n",
       "      <td>0</td>\n",
       "      <td>23.3</td>\n",
       "      <td>0.672</td>\n",
       "      <td>32</td>\n",
       "      <td>1</td>\n",
       "    </tr>\n",
       "    <tr>\n",
       "      <th>3</th>\n",
       "      <td>1</td>\n",
       "      <td>89</td>\n",
       "      <td>66</td>\n",
       "      <td>23</td>\n",
       "      <td>94</td>\n",
       "      <td>28.1</td>\n",
       "      <td>0.167</td>\n",
       "      <td>21</td>\n",
       "      <td>0</td>\n",
       "    </tr>\n",
       "    <tr>\n",
       "      <th>4</th>\n",
       "      <td>0</td>\n",
       "      <td>137</td>\n",
       "      <td>40</td>\n",
       "      <td>35</td>\n",
       "      <td>168</td>\n",
       "      <td>43.1</td>\n",
       "      <td>2.288</td>\n",
       "      <td>33</td>\n",
       "      <td>1</td>\n",
       "    </tr>\n",
       "  </tbody>\n",
       "</table>\n",
       "</div>"
      ],
      "text/plain": [
       "   Pregnancies  Glucose  BloodPressure  SkinThickness  Insulin   BMI  \\\n",
       "0            6      148             72             35        0  33.6   \n",
       "1            1       85             66             29        0  26.6   \n",
       "2            8      183             64              0        0  23.3   \n",
       "3            1       89             66             23       94  28.1   \n",
       "4            0      137             40             35      168  43.1   \n",
       "\n",
       "   DiabetesPedigreeFunction  Age  Outcome  \n",
       "0                     0.627   50        1  \n",
       "1                     0.351   31        0  \n",
       "2                     0.672   32        1  \n",
       "3                     0.167   21        0  \n",
       "4                     2.288   33        1  "
      ]
     },
     "execution_count": 619,
     "metadata": {},
     "output_type": "execute_result"
    }
   ],
   "source": [
    "svmdata.head()"
   ]
  },
  {
   "cell_type": "code",
   "execution_count": 620,
   "metadata": {},
   "outputs": [],
   "source": [
    "# removing Zeros in Some of the columns \n",
    "\n",
    "zero_not_accepted = ['Glucose', 'BloodPressure', 'SkinThickness', 'BMI', 'Insulin']\n",
    "\n",
    "for column in zero_not_accepted:\n",
    "    svmdata[column] = svmdata[column].replace(0, np.NaN)\n",
    "    mean = int(svmdata[column].mean(skipna=True))\n",
    "    svmdata[column] = svmdata[column].replace(np.NaN, mean)"
   ]
  },
  {
   "cell_type": "code",
   "execution_count": 621,
   "metadata": {},
   "outputs": [
    {
     "data": {
      "text/plain": [
       "Pregnancies                 0\n",
       "Glucose                     0\n",
       "BloodPressure               0\n",
       "SkinThickness               0\n",
       "Insulin                     0\n",
       "BMI                         0\n",
       "DiabetesPedigreeFunction    0\n",
       "Age                         0\n",
       "Outcome                     0\n",
       "dtype: int64"
      ]
     },
     "execution_count": 621,
     "metadata": {},
     "output_type": "execute_result"
    }
   ],
   "source": [
    "svmdata.isna().sum()"
   ]
  },
  {
   "cell_type": "code",
   "execution_count": 622,
   "metadata": {},
   "outputs": [
    {
     "data": {
      "text/html": [
       "<div>\n",
       "<style scoped>\n",
       "    .dataframe tbody tr th:only-of-type {\n",
       "        vertical-align: middle;\n",
       "    }\n",
       "\n",
       "    .dataframe tbody tr th {\n",
       "        vertical-align: top;\n",
       "    }\n",
       "\n",
       "    .dataframe thead th {\n",
       "        text-align: right;\n",
       "    }\n",
       "</style>\n",
       "<table border=\"1\" class=\"dataframe\">\n",
       "  <thead>\n",
       "    <tr style=\"text-align: right;\">\n",
       "      <th></th>\n",
       "      <th>Pregnancies</th>\n",
       "      <th>Glucose</th>\n",
       "      <th>BloodPressure</th>\n",
       "      <th>SkinThickness</th>\n",
       "      <th>Insulin</th>\n",
       "      <th>BMI</th>\n",
       "      <th>DiabetesPedigreeFunction</th>\n",
       "      <th>Age</th>\n",
       "      <th>Outcome</th>\n",
       "    </tr>\n",
       "  </thead>\n",
       "  <tbody>\n",
       "    <tr>\n",
       "      <th>Pregnancies</th>\n",
       "      <td>1.000000</td>\n",
       "      <td>0.127957</td>\n",
       "      <td>0.208615</td>\n",
       "      <td>0.081770</td>\n",
       "      <td>0.055478</td>\n",
       "      <td>0.021546</td>\n",
       "      <td>-0.033523</td>\n",
       "      <td>0.544341</td>\n",
       "      <td>0.221898</td>\n",
       "    </tr>\n",
       "    <tr>\n",
       "      <th>Glucose</th>\n",
       "      <td>0.127957</td>\n",
       "      <td>1.000000</td>\n",
       "      <td>0.218615</td>\n",
       "      <td>0.192677</td>\n",
       "      <td>0.420301</td>\n",
       "      <td>0.231470</td>\n",
       "      <td>0.137100</td>\n",
       "      <td>0.266591</td>\n",
       "      <td>0.492911</td>\n",
       "    </tr>\n",
       "    <tr>\n",
       "      <th>BloodPressure</th>\n",
       "      <td>0.208615</td>\n",
       "      <td>0.218615</td>\n",
       "      <td>1.000000</td>\n",
       "      <td>0.191892</td>\n",
       "      <td>0.072041</td>\n",
       "      <td>0.281132</td>\n",
       "      <td>-0.002378</td>\n",
       "      <td>0.324915</td>\n",
       "      <td>0.165723</td>\n",
       "    </tr>\n",
       "    <tr>\n",
       "      <th>SkinThickness</th>\n",
       "      <td>0.081770</td>\n",
       "      <td>0.192677</td>\n",
       "      <td>0.191892</td>\n",
       "      <td>1.000000</td>\n",
       "      <td>0.158133</td>\n",
       "      <td>0.543275</td>\n",
       "      <td>0.102188</td>\n",
       "      <td>0.126107</td>\n",
       "      <td>0.214873</td>\n",
       "    </tr>\n",
       "    <tr>\n",
       "      <th>Insulin</th>\n",
       "      <td>0.055478</td>\n",
       "      <td>0.420301</td>\n",
       "      <td>0.072041</td>\n",
       "      <td>0.158133</td>\n",
       "      <td>1.000000</td>\n",
       "      <td>0.166946</td>\n",
       "      <td>0.099170</td>\n",
       "      <td>0.136050</td>\n",
       "      <td>0.214278</td>\n",
       "    </tr>\n",
       "    <tr>\n",
       "      <th>BMI</th>\n",
       "      <td>0.021546</td>\n",
       "      <td>0.231470</td>\n",
       "      <td>0.281132</td>\n",
       "      <td>0.543275</td>\n",
       "      <td>0.166946</td>\n",
       "      <td>1.000000</td>\n",
       "      <td>0.153506</td>\n",
       "      <td>0.025744</td>\n",
       "      <td>0.312249</td>\n",
       "    </tr>\n",
       "    <tr>\n",
       "      <th>DiabetesPedigreeFunction</th>\n",
       "      <td>-0.033523</td>\n",
       "      <td>0.137100</td>\n",
       "      <td>-0.002378</td>\n",
       "      <td>0.102188</td>\n",
       "      <td>0.099170</td>\n",
       "      <td>0.153506</td>\n",
       "      <td>1.000000</td>\n",
       "      <td>0.033561</td>\n",
       "      <td>0.173844</td>\n",
       "    </tr>\n",
       "    <tr>\n",
       "      <th>Age</th>\n",
       "      <td>0.544341</td>\n",
       "      <td>0.266591</td>\n",
       "      <td>0.324915</td>\n",
       "      <td>0.126107</td>\n",
       "      <td>0.136050</td>\n",
       "      <td>0.025744</td>\n",
       "      <td>0.033561</td>\n",
       "      <td>1.000000</td>\n",
       "      <td>0.238356</td>\n",
       "    </tr>\n",
       "    <tr>\n",
       "      <th>Outcome</th>\n",
       "      <td>0.221898</td>\n",
       "      <td>0.492911</td>\n",
       "      <td>0.165723</td>\n",
       "      <td>0.214873</td>\n",
       "      <td>0.214278</td>\n",
       "      <td>0.312249</td>\n",
       "      <td>0.173844</td>\n",
       "      <td>0.238356</td>\n",
       "      <td>1.000000</td>\n",
       "    </tr>\n",
       "  </tbody>\n",
       "</table>\n",
       "</div>"
      ],
      "text/plain": [
       "                          Pregnancies   Glucose  BloodPressure  SkinThickness  \\\n",
       "Pregnancies                  1.000000  0.127957       0.208615       0.081770   \n",
       "Glucose                      0.127957  1.000000       0.218615       0.192677   \n",
       "BloodPressure                0.208615  0.218615       1.000000       0.191892   \n",
       "SkinThickness                0.081770  0.192677       0.191892       1.000000   \n",
       "Insulin                      0.055478  0.420301       0.072041       0.158133   \n",
       "BMI                          0.021546  0.231470       0.281132       0.543275   \n",
       "DiabetesPedigreeFunction    -0.033523  0.137100      -0.002378       0.102188   \n",
       "Age                          0.544341  0.266591       0.324915       0.126107   \n",
       "Outcome                      0.221898  0.492911       0.165723       0.214873   \n",
       "\n",
       "                           Insulin       BMI  DiabetesPedigreeFunction  \\\n",
       "Pregnancies               0.055478  0.021546                 -0.033523   \n",
       "Glucose                   0.420301  0.231470                  0.137100   \n",
       "BloodPressure             0.072041  0.281132                 -0.002378   \n",
       "SkinThickness             0.158133  0.543275                  0.102188   \n",
       "Insulin                   1.000000  0.166946                  0.099170   \n",
       "BMI                       0.166946  1.000000                  0.153506   \n",
       "DiabetesPedigreeFunction  0.099170  0.153506                  1.000000   \n",
       "Age                       0.136050  0.025744                  0.033561   \n",
       "Outcome                   0.214278  0.312249                  0.173844   \n",
       "\n",
       "                               Age   Outcome  \n",
       "Pregnancies               0.544341  0.221898  \n",
       "Glucose                   0.266591  0.492911  \n",
       "BloodPressure             0.324915  0.165723  \n",
       "SkinThickness             0.126107  0.214873  \n",
       "Insulin                   0.136050  0.214278  \n",
       "BMI                       0.025744  0.312249  \n",
       "DiabetesPedigreeFunction  0.033561  0.173844  \n",
       "Age                       1.000000  0.238356  \n",
       "Outcome                   0.238356  1.000000  "
      ]
     },
     "execution_count": 622,
     "metadata": {},
     "output_type": "execute_result"
    }
   ],
   "source": [
    "svmdata.corr()"
   ]
  },
  {
   "cell_type": "code",
   "execution_count": 623,
   "metadata": {},
   "outputs": [
    {
     "data": {
      "text/plain": [
       "<matplotlib.axes._subplots.AxesSubplot at 0x1afb67399e8>"
      ]
     },
     "execution_count": 623,
     "metadata": {},
     "output_type": "execute_result"
    },
    {
     "data": {
      "image/png": "[encoded data removed]",
      "text/plain": [
       "<Figure size 432x288 with 1 Axes>"
      ]
     },
     "metadata": {
      "needs_background": "light"
     },
     "output_type": "display_data"
    }
   ],
   "source": [
    "sns.countplot(x = svmdata['Outcome'])"
   ]
  },
  {
   "cell_type": "code",
   "execution_count": 624,
   "metadata": {},
   "outputs": [
    {
     "data": {
      "text/plain": [
       "array([[<matplotlib.axes._subplots.AxesSubplot object at 0x000001AFAA7E9550>,\n",
       "        <matplotlib.axes._subplots.AxesSubplot object at 0x000001AFB5E0B518>,\n",
       "        <matplotlib.axes._subplots.AxesSubplot object at 0x000001AFAA7F9A20>],\n",
       "       [<matplotlib.axes._subplots.AxesSubplot object at 0x000001AFB5E93630>,\n",
       "        <matplotlib.axes._subplots.AxesSubplot object at 0x000001AFB5E87A90>,\n",
       "        <matplotlib.axes._subplots.AxesSubplot object at 0x000001AFB5E7D4A8>],\n",
       "       [<matplotlib.axes._subplots.AxesSubplot object at 0x000001AFB312F0B8>,\n",
       "        <matplotlib.axes._subplots.AxesSubplot object at 0x000001AFA75097B8>,\n",
       "        <matplotlib.axes._subplots.AxesSubplot object at 0x000001AFA7509C88>]],\n",
       "      dtype=object)"
      ]
     },
     "execution_count": 624,
     "metadata": {},
     "output_type": "execute_result"
    },
    {
     "data": {
      "image/png": "[encoded data removed]",
      "text/plain": [
       "<Figure size 1080x1080 with 9 Axes>"
      ]
     },
     "metadata": {
      "needs_background": "light"
     },
     "output_type": "display_data"
    }
   ],
   "source": [
    "svmdata.boxplot(by = 'Outcome', layout=(3,3), figsize=(15, 15))"
   ]
  },
  {
   "cell_type": "code",
   "execution_count": 625,
   "metadata": {},
   "outputs": [],
   "source": [
    "y = svmdata['Outcome']\n",
    "x = svmdata.drop('Outcome', axis = 1)"
   ]
  },
  {
   "cell_type": "code",
   "execution_count": 626,
   "metadata": {},
   "outputs": [
    {
     "data": {
      "text/plain": [
       "(768, 8)"
      ]
     },
     "execution_count": 626,
     "metadata": {},
     "output_type": "execute_result"
    }
   ],
   "source": [
    "x.shape"
   ]
  },
  {
   "cell_type": "code",
   "execution_count": 627,
   "metadata": {},
   "outputs": [
    {
     "data": {
      "text/plain": [
       "(768,)"
      ]
     },
     "execution_count": 627,
     "metadata": {},
     "output_type": "execute_result"
    }
   ],
   "source": [
    "y.shape"
   ]
  },
  {
   "cell_type": "code",
   "execution_count": 628,
   "metadata": {},
   "outputs": [],
   "source": [
    "from sklearn.model_selection import train_test_split\n",
    "X_train, X_test, y_train, y_test = train_test_split(x, y, random_state=0, test_size=0.20)"
   ]
  },
  {
   "cell_type": "code",
   "execution_count": 629,
   "metadata": {},
   "outputs": [],
   "source": [
    "from sklearn.preprocessing import StandardScaler"
   ]
  },
  {
   "cell_type": "code",
   "execution_count": 630,
   "metadata": {},
   "outputs": [],
   "source": [
    "sc_X = StandardScaler()\n",
    "X_train = sc_X.fit_transform(X_train)\n",
    "X_test = sc_X.transform(X_test)"
   ]
  },
  {
   "cell_type": "code",
   "execution_count": 631,
   "metadata": {},
   "outputs": [
    {
     "data": {
      "text/plain": [
       "array([[ 0.90832902,  0.93641795,  0.44764174, ...,  0.36863635,\n",
       "         0.67740401,  1.69955804],\n",
       "       [ 0.03644676, -0.81630913, -1.05200558, ..., -0.63294341,\n",
       "        -0.07049698, -0.96569189],\n",
       "       [-1.12606292,  1.43247278,  1.44740662, ...,  2.81535261,\n",
       "        -0.11855487, -0.88240283],\n",
       "       ...,\n",
       "       [ 0.03644676, -0.91552009, -0.63543688, ..., -1.13373329,\n",
       "        -0.95656442, -1.04898095],\n",
       "       [ 2.0708387 , -1.21315299,  0.11438678, ..., -0.36108605,\n",
       "        -0.50001442,  0.11706589],\n",
       "       [ 0.32707418,  0.47343344,  0.7808967 , ..., -0.08922869,\n",
       "         0.52121586,  2.94889395]])"
      ]
     },
     "execution_count": 631,
     "metadata": {},
     "output_type": "execute_result"
    }
   ],
   "source": [
    "X_train"
   ]
  },
  {
   "cell_type": "markdown",
   "metadata": {},
   "source": [
    "### Train the model and find accuracy"
   ]
  },
  {
   "cell_type": "code",
   "execution_count": 632,
   "metadata": {},
   "outputs": [
    {
     "data": {
      "text/plain": [
       "SVC(C=1.0, cache_size=200, class_weight=None, coef0=0.0,\n",
       "  decision_function_shape='ovr', degree=3, gamma='auto_deprecated',\n",
       "  kernel='rbf', max_iter=-1, probability=False, random_state=0,\n",
       "  shrinking=True, tol=0.001, verbose=False)"
      ]
     },
     "execution_count": 632,
     "metadata": {},
     "output_type": "execute_result"
    }
   ],
   "source": [
    "classifier = SVC(random_state=0, kernel='rbf')\n",
    "classifier.fit(X_train, y_train)"
   ]
  },
  {
   "cell_type": "code",
   "execution_count": 633,
   "metadata": {},
   "outputs": [],
   "source": [
    "y_pred = classifier.predict(X_test)"
   ]
  },
  {
   "cell_type": "code",
   "execution_count": 634,
   "metadata": {},
   "outputs": [
    {
     "data": {
      "text/plain": [
       "array([1, 0, 0, 1, 0, 0, 1, 1, 1, 0, 1, 1, 0, 0, 0, 0, 1, 0, 0, 0, 1, 0,\n",
       "       0, 0, 0, 0, 0, 1, 0, 0, 0, 0, 0, 1, 0, 1, 0, 0, 0, 1, 0, 0, 0, 1,\n",
       "       1, 0, 0, 0, 0, 0, 0, 0, 1, 0, 0, 0, 0, 0, 0, 0, 1, 0, 0, 1, 1, 1,\n",
       "       1, 0, 0, 0, 0, 0, 0, 1, 1, 0, 0, 1, 0, 0, 0, 0, 0, 0, 0, 0, 0, 1,\n",
       "       1, 0, 0, 0, 0, 0, 1, 0, 0, 1, 1, 0, 0, 0, 0, 0, 1, 1, 0, 0, 0, 1,\n",
       "       0, 0, 1, 0, 0, 1, 0, 1, 0, 1, 0, 1, 0, 0, 0, 0, 0, 0, 0, 0, 0, 0,\n",
       "       0, 0, 0, 0, 0, 0, 0, 0, 0, 1, 0, 0, 0, 0, 0, 0, 0, 0, 0, 0, 0, 0],\n",
       "      dtype=int64)"
      ]
     },
     "execution_count": 634,
     "metadata": {},
     "output_type": "execute_result"
    }
   ],
   "source": [
    "y_pred"
   ]
  },
  {
   "cell_type": "code",
   "execution_count": 635,
   "metadata": {},
   "outputs": [
    {
     "name": "stdout",
     "output_type": "stream",
     "text": [
      "[[94 13]\n",
      " [22 25]]\n",
      "0.5882352941176471\n",
      "0.7727272727272727\n"
     ]
    }
   ],
   "source": [
    "cm = confusion_matrix(y_test, y_pred)\n",
    "print (cm)\n",
    "print(f1_score(y_test, y_pred))\n",
    "print(accuracy_score(y_test, y_pred))"
   ]
  },
  {
   "cell_type": "markdown",
   "metadata": {},
   "source": [
    "### Use hyperparameters for model tuning. Try with various values of C and kernel and find the best model. Use Grid search for this purpose. "
   ]
  },
  {
   "cell_type": "markdown",
   "metadata": {},
   "source": [
    "#### Try for C value 0.1, 0.5, 1, 5, 10\n",
    "#### Try for kernels linear, rbf, poly, sigmoid\n",
    "#### use cv=3"
   ]
  },
  {
   "cell_type": "code",
   "execution_count": 636,
   "metadata": {},
   "outputs": [],
   "source": [
    "from sklearn.model_selection import GridSearchCV"
   ]
  },
  {
   "cell_type": "code",
   "execution_count": 637,
   "metadata": {},
   "outputs": [],
   "source": [
    "model = SVC()\n",
    "\n",
    "params = {'C': [0.1, 0.5, 1, 5, 10], \n",
    "          'kernel':['linear', 'poly', 'rbf', 'sigmoid']}"
   ]
  },
  {
   "cell_type": "code",
   "execution_count": 638,
   "metadata": {},
   "outputs": [],
   "source": [
    "gsmodel = GridSearchCV(model, param_grid=params, n_jobs=-1, cv = 3)"
   ]
  },
  {
   "cell_type": "code",
   "execution_count": 639,
   "metadata": {},
   "outputs": [
    {
     "data": {
      "text/plain": [
       "GridSearchCV(cv=3, error_score='raise-deprecating',\n",
       "       estimator=SVC(C=1.0, cache_size=200, class_weight=None, coef0=0.0,\n",
       "  decision_function_shape='ovr', degree=3, gamma='auto_deprecated',\n",
       "  kernel='rbf', max_iter=-1, probability=False, random_state=None,\n",
       "  shrinking=True, tol=0.001, verbose=False),\n",
       "       fit_params=None, iid='warn', n_jobs=-1,\n",
       "       param_grid={'C': [0.1, 0.5, 1, 5, 10], 'kernel': ['linear', 'poly', 'rbf', 'sigmoid']},\n",
       "       pre_dispatch='2*n_jobs', refit=True, return_train_score='warn',\n",
       "       scoring=None, verbose=0)"
      ]
     },
     "execution_count": 639,
     "metadata": {},
     "output_type": "execute_result"
    }
   ],
   "source": [
    "gsmodel.fit(X_train, y_train)"
   ]
  },
  {
   "cell_type": "code",
   "execution_count": 640,
   "metadata": {},
   "outputs": [
    {
     "name": "stdout",
     "output_type": "stream",
     "text": [
      "Best Hyper Parameters: {'C': 0.5, 'kernel': 'linear'}\n"
     ]
    }
   ],
   "source": [
    "print(\"Best Hyper Parameters:\",gsmodel.best_params_)"
   ]
  },
  {
   "cell_type": "markdown",
   "metadata": {},
   "source": [
    "### Report your findings on the best model"
   ]
  },
  {
   "cell_type": "markdown",
   "metadata": {},
   "source": [
    "#### Model Works best with the following parameters: 'C': 0.5, 'kernel': 'linear'.  Since there are outliers in few of the features, and correlation is also low for most features assuming that the model works better with slightly lower sensitivity(C Value). Also since the dataset in the problem naturally forms a linear structure, Linear kerner performs better compared to other kernels"
   ]
  },
  {
   "cell_type": "markdown",
   "metadata": {},
   "source": [
    "#### Use the best params and classify test data and report the findings"
   ]
  },
  {
   "cell_type": "code",
   "execution_count": 641,
   "metadata": {},
   "outputs": [
    {
     "data": {
      "text/plain": [
       "SVC(C=0.5, cache_size=200, class_weight=None, coef0=0.0,\n",
       "  decision_function_shape='ovr', degree=3, gamma='auto_deprecated',\n",
       "  kernel='linear', max_iter=-1, probability=False, random_state=0,\n",
       "  shrinking=True, tol=0.001, verbose=False)"
      ]
     },
     "execution_count": 641,
     "metadata": {},
     "output_type": "execute_result"
    }
   ],
   "source": [
    "classifier = SVC(random_state=0, C= 0.5, kernel= 'linear')\n",
    "classifier.fit(X_train, y_train)"
   ]
  },
  {
   "cell_type": "code",
   "execution_count": 642,
   "metadata": {},
   "outputs": [],
   "source": [
    "y_pred = classifier.predict(X_test)"
   ]
  },
  {
   "cell_type": "code",
   "execution_count": 643,
   "metadata": {},
   "outputs": [
    {
     "data": {
      "text/plain": [
       "array([1, 0, 0, 1, 0, 0, 1, 1, 0, 0, 1, 1, 0, 0, 0, 0, 1, 0, 0, 0, 1, 0,\n",
       "       0, 0, 0, 0, 0, 1, 0, 0, 0, 0, 0, 0, 0, 1, 0, 0, 0, 1, 0, 0, 0, 1,\n",
       "       1, 0, 0, 0, 0, 0, 0, 0, 1, 0, 0, 0, 0, 1, 0, 0, 1, 1, 0, 1, 1, 1,\n",
       "       1, 0, 0, 0, 0, 0, 0, 1, 1, 0, 0, 1, 0, 0, 0, 0, 0, 0, 0, 0, 0, 0,\n",
       "       1, 0, 0, 0, 0, 0, 1, 0, 0, 1, 0, 0, 0, 0, 0, 0, 1, 0, 0, 0, 0, 1,\n",
       "       0, 0, 1, 0, 1, 1, 0, 1, 0, 1, 0, 0, 0, 0, 0, 0, 0, 0, 0, 0, 0, 0,\n",
       "       0, 1, 0, 0, 0, 0, 0, 0, 0, 1, 0, 0, 0, 0, 0, 0, 0, 0, 0, 1, 0, 0],\n",
       "      dtype=int64)"
      ]
     },
     "execution_count": 643,
     "metadata": {},
     "output_type": "execute_result"
    }
   ],
   "source": [
    "y_pred"
   ]
  },
  {
   "cell_type": "code",
   "execution_count": 644,
   "metadata": {},
   "outputs": [
    {
     "name": "stdout",
     "output_type": "stream",
     "text": [
      "[[97 10]\n",
      " [20 27]]\n",
      "0.6428571428571429\n",
      "0.8051948051948052\n"
     ]
    }
   ],
   "source": [
    "cm = confusion_matrix(y_test, y_pred)\n",
    "print (cm)\n",
    "print(f1_score(y_test, y_pred))\n",
    "print(accuracy_score(y_test, y_pred))"
   ]
  },
  {
   "cell_type": "markdown",
   "metadata": {},
   "source": [
    "Changing the parameters to best params have significantly increased the accuracy of the test predictions"
   ]
  },
  {
   "cell_type": "markdown",
   "metadata": {},
   "source": [
    "## Recommendation systems - Collaborative filtering"
   ]
  },
  {
   "cell_type": "markdown",
   "metadata": {},
   "source": [
    "#### About Book Crossing Dataset\n",
    "This dataset has been compiled by Cai-Nicolas Ziegler in 2004, and it comprises of three tables for users, books and ratings. Explicit ratings are expressed on a scale from 1-10 (higher values denoting higher appreciation) and implicit rating is expressed by 0"
   ]
  },
  {
   "cell_type": "markdown",
   "metadata": {},
   "source": [
    "#### Link to dataset files\n",
    "http://www2.informatik.uni-freiburg.de/~cziegler/BX/ "
   ]
  },
  {
   "cell_type": "markdown",
   "metadata": {},
   "source": [
    "#### Objective\n",
    "This project entails building a Book Recommender System for users based on user-based and item-based collaborative filtering approaches"
   ]
  },
  {
   "cell_type": "markdown",
   "metadata": {},
   "source": [
    "### Import all the necessary libraries and datasets"
   ]
  },
  {
   "cell_type": "markdown",
   "metadata": {},
   "source": [
    "Import books.csv, users.csv, ratings.csv\n",
    "\n",
    "Use \";\" as separator while importing the datasets.\n",
    "\n",
    "Use encoding='latin-1' and error_bad_lines=False while importing the datasets.\n",
    "\n",
    "Example: df = pd.read_csv(\"df.csv\", sep=\";\", error_bad_lines=False, encoding=\"latin-1\")"
   ]
  },
  {
   "cell_type": "markdown",
   "metadata": {},
   "source": [
    "books dataset columns - 'ISBN', 'bookTitle', 'bookAuthor', 'yearOfPublication', 'publisher', 'imageUrlS', 'imageUrlM', 'imageUrlL'"
   ]
  },
  {
   "cell_type": "markdown",
   "metadata": {},
   "source": [
    "users dataset columns - 'userID', 'Location', 'Age'"
   ]
  },
  {
   "cell_type": "markdown",
   "metadata": {},
   "source": [
    "ratings dataset columns - 'userID', 'ISBN', 'bookRating'"
   ]
  },
  {
   "cell_type": "markdown",
   "metadata": {},
   "source": [
    "Check shape of each dataset using shape function"
   ]
  },
  {
   "cell_type": "code",
   "execution_count": 645,
   "metadata": {},
   "outputs": [],
   "source": [
    "import pandas as pd\n",
    "import matplotlib.pyplot as plt\n",
    "import sklearn.metrics as metrics\n",
    "import numpy as np\n",
    "from sklearn.neighbors import NearestNeighbors\n",
    "from sklearn.metrics.pairwise import pairwise_distances\n",
    "import warnings\n",
    "warnings.filterwarnings('ignore')\n",
    "import numpy as np\n",
    "import re\n",
    "import seaborn as sns"
   ]
  },
  {
   "cell_type": "code",
   "execution_count": 646,
   "metadata": {},
   "outputs": [
    {
     "name": "stderr",
     "output_type": "stream",
     "text": [
      "b'Skipping line 6452: expected 8 fields, saw 9\\nSkipping line 43667: expected 8 fields, saw 10\\nSkipping line 51751: expected 8 fields, saw 9\\n'\n",
      "b'Skipping line 92038: expected 8 fields, saw 9\\nSkipping line 104319: expected 8 fields, saw 9\\nSkipping line 121768: expected 8 fields, saw 9\\n'\n",
      "b'Skipping line 144058: expected 8 fields, saw 9\\nSkipping line 150789: expected 8 fields, saw 9\\nSkipping line 157128: expected 8 fields, saw 9\\nSkipping line 180189: expected 8 fields, saw 9\\nSkipping line 185738: expected 8 fields, saw 9\\n'\n",
      "b'Skipping line 209388: expected 8 fields, saw 9\\nSkipping line 220626: expected 8 fields, saw 9\\nSkipping line 227933: expected 8 fields, saw 11\\nSkipping line 228957: expected 8 fields, saw 10\\nSkipping line 245933: expected 8 fields, saw 9\\nSkipping line 251296: expected 8 fields, saw 9\\nSkipping line 259941: expected 8 fields, saw 9\\nSkipping line 261529: expected 8 fields, saw 9\\n'\n"
     ]
    }
   ],
   "source": [
    "#Loading data\n",
    "books = pd.read_csv(\"books.csv\", sep=\";\", error_bad_lines=False, encoding=\"latin-1\")\n",
    "books.columns = ['ISBN', 'bookTitle', 'bookAuthor', 'yearOfPublication', 'publisher', 'imageUrlS', 'imageUrlM', 'imageUrlL']\n",
    "users = pd.read_csv('users.csv', sep=';', error_bad_lines=False, encoding=\"latin-1\")\n",
    "users.columns = ['userID', 'Location', 'Age']\n",
    "ratings = pd.read_csv('ratings.csv', sep=';', error_bad_lines=False, encoding=\"latin-1\")\n",
    "ratings.columns = ['userID', 'ISBN', 'bookRating']"
   ]
  },
  {
   "cell_type": "code",
   "execution_count": 647,
   "metadata": {},
   "outputs": [
    {
     "name": "stdout",
     "output_type": "stream",
     "text": [
      "books shape: (271360, 8)\n",
      "users shape: (278858, 3)\n",
      "ratings shape: (1149780, 3)\n"
     ]
    }
   ],
   "source": [
    "print(\"books shape:\", books.shape)\n",
    "print(\"users shape:\", users.shape)\n",
    "print(\"ratings shape:\", ratings.shape)"
   ]
  },
  {
   "cell_type": "code",
   "execution_count": 648,
   "metadata": {},
   "outputs": [
    {
     "name": "stdout",
     "output_type": "stream",
     "text": [
      "<class 'pandas.core.frame.DataFrame'>\n",
      "RangeIndex: 271360 entries, 0 to 271359\n",
      "Data columns (total 8 columns):\n",
      "ISBN                 271360 non-null object\n",
      "bookTitle            271360 non-null object\n",
      "bookAuthor           271359 non-null object\n",
      "yearOfPublication    271360 non-null object\n",
      "publisher            271358 non-null object\n",
      "imageUrlS            271360 non-null object\n",
      "imageUrlM            271360 non-null object\n",
      "imageUrlL            271357 non-null object\n",
      "dtypes: object(8)\n",
      "memory usage: 16.6+ MB\n"
     ]
    }
   ],
   "source": [
    "books.info()"
   ]
  },
  {
   "cell_type": "code",
   "execution_count": 649,
   "metadata": {},
   "outputs": [
    {
     "name": "stdout",
     "output_type": "stream",
     "text": [
      "<class 'pandas.core.frame.DataFrame'>\n",
      "RangeIndex: 278858 entries, 0 to 278857\n",
      "Data columns (total 3 columns):\n",
      "userID      278858 non-null int64\n",
      "Location    278858 non-null object\n",
      "Age         168096 non-null float64\n",
      "dtypes: float64(1), int64(1), object(1)\n",
      "memory usage: 6.4+ MB\n"
     ]
    }
   ],
   "source": [
    "users.info()"
   ]
  },
  {
   "cell_type": "code",
   "execution_count": 650,
   "metadata": {},
   "outputs": [
    {
     "name": "stdout",
     "output_type": "stream",
     "text": [
      "<class 'pandas.core.frame.DataFrame'>\n",
      "RangeIndex: 1149780 entries, 0 to 1149779\n",
      "Data columns (total 3 columns):\n",
      "userID        1149780 non-null int64\n",
      "ISBN          1149780 non-null object\n",
      "bookRating    1149780 non-null int64\n",
      "dtypes: int64(2), object(1)\n",
      "memory usage: 26.3+ MB\n"
     ]
    }
   ],
   "source": [
    "ratings.info()"
   ]
  },
  {
   "cell_type": "markdown",
   "metadata": {},
   "source": [
    "### Drop last three columns containing image URLs which will not be required for analysis"
   ]
  },
  {
   "cell_type": "code",
   "execution_count": 651,
   "metadata": {},
   "outputs": [
    {
     "data": {
      "text/plain": [
       "Index(['ISBN', 'bookTitle', 'bookAuthor', 'yearOfPublication', 'publisher',\n",
       "       'imageUrlS', 'imageUrlM', 'imageUrlL'],\n",
       "      dtype='object')"
      ]
     },
     "execution_count": 651,
     "metadata": {},
     "output_type": "execute_result"
    }
   ],
   "source": [
    "books.columns"
   ]
  },
  {
   "cell_type": "code",
   "execution_count": 652,
   "metadata": {},
   "outputs": [],
   "source": [
    "books.drop(['imageUrlS', 'imageUrlM', 'imageUrlL'], axis = 1,  inplace = True)"
   ]
  },
  {
   "cell_type": "code",
   "execution_count": 653,
   "metadata": {},
   "outputs": [
    {
     "data": {
      "text/plain": [
       "Index(['ISBN', 'bookTitle', 'bookAuthor', 'yearOfPublication', 'publisher'], dtype='object')"
      ]
     },
     "execution_count": 653,
     "metadata": {},
     "output_type": "execute_result"
    }
   ],
   "source": [
    "books.columns"
   ]
  },
  {
   "cell_type": "markdown",
   "metadata": {},
   "source": [
    "### check the unique values of yearOfPublication"
   ]
  },
  {
   "cell_type": "code",
   "execution_count": 654,
   "metadata": {},
   "outputs": [
    {
     "data": {
      "text/html": [
       "<div>\n",
       "<style scoped>\n",
       "    .dataframe tbody tr th:only-of-type {\n",
       "        vertical-align: middle;\n",
       "    }\n",
       "\n",
       "    .dataframe tbody tr th {\n",
       "        vertical-align: top;\n",
       "    }\n",
       "\n",
       "    .dataframe thead th {\n",
       "        text-align: right;\n",
       "    }\n",
       "</style>\n",
       "<table border=\"1\" class=\"dataframe\">\n",
       "  <thead>\n",
       "    <tr style=\"text-align: right;\">\n",
       "      <th></th>\n",
       "      <th>ISBN</th>\n",
       "      <th>bookTitle</th>\n",
       "      <th>bookAuthor</th>\n",
       "      <th>yearOfPublication</th>\n",
       "      <th>publisher</th>\n",
       "    </tr>\n",
       "  </thead>\n",
       "  <tbody>\n",
       "    <tr>\n",
       "      <th>204889</th>\n",
       "      <td>189136927X</td>\n",
       "      <td>The Quotable Cyclist: Great Moments of Bicycli...</td>\n",
       "      <td>Bill Strickland</td>\n",
       "      <td>2001</td>\n",
       "      <td>Breakaway Books</td>\n",
       "    </tr>\n",
       "    <tr>\n",
       "      <th>171930</th>\n",
       "      <td>0446382639</td>\n",
       "      <td>Dress for Success</td>\n",
       "      <td>John T Molloy</td>\n",
       "      <td>1985</td>\n",
       "      <td>Warner Books&gt; C/o Little Br</td>\n",
       "    </tr>\n",
       "    <tr>\n",
       "      <th>109252</th>\n",
       "      <td>0517436183</td>\n",
       "      <td>MASH Trivia : Unofficial Quiz Book</td>\n",
       "      <td>George St. John</td>\n",
       "      <td>1984</td>\n",
       "      <td>Random House Value Publishing</td>\n",
       "    </tr>\n",
       "    <tr>\n",
       "      <th>239283</th>\n",
       "      <td>0806996218</td>\n",
       "      <td>Two-Hour Christmas Crafts: 200 Inspirational D...</td>\n",
       "      <td>Michele Thompson</td>\n",
       "      <td>1999</td>\n",
       "      <td>Sterling Pub Co Inc</td>\n",
       "    </tr>\n",
       "    <tr>\n",
       "      <th>138864</th>\n",
       "      <td>0517598507</td>\n",
       "      <td>Why Me, Why This, Why Now: A Guide to Answerin...</td>\n",
       "      <td>Robin Norwood</td>\n",
       "      <td>1994</td>\n",
       "      <td>Random House Inc</td>\n",
       "    </tr>\n",
       "    <tr>\n",
       "      <th>206896</th>\n",
       "      <td>0688113559</td>\n",
       "      <td>French Tea: The Pleasures of the Table</td>\n",
       "      <td>Carole Manchester</td>\n",
       "      <td>1993</td>\n",
       "      <td>Morrow Cookbooks</td>\n",
       "    </tr>\n",
       "    <tr>\n",
       "      <th>180909</th>\n",
       "      <td>0439108055</td>\n",
       "      <td>The Dawn Fairy</td>\n",
       "      <td>Keith Faulkner</td>\n",
       "      <td>2000</td>\n",
       "      <td>Scholastic</td>\n",
       "    </tr>\n",
       "    <tr>\n",
       "      <th>142388</th>\n",
       "      <td>0340248521</td>\n",
       "      <td>Blessings:</td>\n",
       "      <td>Craig</td>\n",
       "      <td>1988</td>\n",
       "      <td>Hodder &amp;amp; Stoughton</td>\n",
       "    </tr>\n",
       "    <tr>\n",
       "      <th>152280</th>\n",
       "      <td>0743442393</td>\n",
       "      <td>Know-It-All</td>\n",
       "      <td>Lisa Fiedler</td>\n",
       "      <td>2002</td>\n",
       "      <td>Simon Spotlight Entertainment</td>\n",
       "    </tr>\n",
       "    <tr>\n",
       "      <th>173262</th>\n",
       "      <td>083352965X</td>\n",
       "      <td>The Yellow House Mystery (Boxcar Children (Lib...</td>\n",
       "      <td>Gertrude Warner</td>\n",
       "      <td>1999</td>\n",
       "      <td>Sagebrush Bound</td>\n",
       "    </tr>\n",
       "  </tbody>\n",
       "</table>\n",
       "</div>"
      ],
      "text/plain": [
       "              ISBN                                          bookTitle  \\\n",
       "204889  189136927X  The Quotable Cyclist: Great Moments of Bicycli...   \n",
       "171930  0446382639                                  Dress for Success   \n",
       "109252  0517436183                 MASH Trivia : Unofficial Quiz Book   \n",
       "239283  0806996218  Two-Hour Christmas Crafts: 200 Inspirational D...   \n",
       "138864  0517598507  Why Me, Why This, Why Now: A Guide to Answerin...   \n",
       "206896  0688113559             French Tea: The Pleasures of the Table   \n",
       "180909  0439108055                                     The Dawn Fairy   \n",
       "142388  0340248521                                         Blessings:   \n",
       "152280  0743442393                                        Know-It-All   \n",
       "173262  083352965X  The Yellow House Mystery (Boxcar Children (Lib...   \n",
       "\n",
       "               bookAuthor yearOfPublication                      publisher  \n",
       "204889    Bill Strickland              2001                Breakaway Books  \n",
       "171930      John T Molloy              1985    Warner Books> C/o Little Br  \n",
       "109252    George St. John              1984  Random House Value Publishing  \n",
       "239283   Michele Thompson              1999            Sterling Pub Co Inc  \n",
       "138864      Robin Norwood              1994               Random House Inc  \n",
       "206896  Carole Manchester              1993               Morrow Cookbooks  \n",
       "180909     Keith Faulkner              2000                     Scholastic  \n",
       "142388              Craig              1988         Hodder &amp; Stoughton  \n",
       "152280       Lisa Fiedler              2002  Simon Spotlight Entertainment  \n",
       "173262    Gertrude Warner              1999                Sagebrush Bound  "
      ]
     },
     "execution_count": 654,
     "metadata": {},
     "output_type": "execute_result"
    }
   ],
   "source": [
    "books.sample(10)"
   ]
  },
  {
   "cell_type": "code",
   "execution_count": 655,
   "metadata": {},
   "outputs": [
    {
     "data": {
      "text/plain": [
       "array([2002, 2001, 1991, 1999, 2000, 1993, 1996, 1988, 2004, 1998, 1994,\n",
       "       2003, 1997, 1983, 1979, 1995, 1982, 1985, 1992, 1986, 1978, 1980,\n",
       "       1952, 1987, 1990, 1981, 1989, 1984, 0, 1968, 1961, 1958, 1974,\n",
       "       1976, 1971, 1977, 1975, 1965, 1941, 1970, 1962, 1973, 1972, 1960,\n",
       "       1966, 1920, 1956, 1959, 1953, 1951, 1942, 1963, 1964, 1969, 1954,\n",
       "       1950, 1967, 2005, 1957, 1940, 1937, 1955, 1946, 1936, 1930, 2011,\n",
       "       1925, 1948, 1943, 1947, 1945, 1923, 2020, 1939, 1926, 1938, 2030,\n",
       "       1911, 1904, 1949, 1932, 1928, 1929, 1927, 1931, 1914, 2050, 1934,\n",
       "       1910, 1933, 1902, 1924, 1921, 1900, 2038, 2026, 1944, 1917, 1901,\n",
       "       2010, 1908, 1906, 1935, 1806, 2021, '2000', '1995', '1999', '2004',\n",
       "       '2003', '1990', '1994', '1986', '1989', '2002', '1981', '1993',\n",
       "       '1983', '1982', '1976', '1991', '1977', '1998', '1992', '1996',\n",
       "       '0', '1997', '2001', '1974', '1968', '1987', '1984', '1988',\n",
       "       '1963', '1956', '1970', '1985', '1978', '1973', '1980', '1979',\n",
       "       '1975', '1969', '1961', '1965', '1939', '1958', '1950', '1953',\n",
       "       '1966', '1971', '1959', '1972', '1955', '1957', '1945', '1960',\n",
       "       '1967', '1932', '1924', '1964', '2012', '1911', '1927', '1948',\n",
       "       '1962', '2006', '1952', '1940', '1951', '1931', '1954', '2005',\n",
       "       '1930', '1941', '1944', 'DK Publishing Inc', '1943', '1938',\n",
       "       '1900', '1942', '1923', '1920', '1933', 'Gallimard', '1909',\n",
       "       '1946', '2008', '1378', '2030', '1936', '1947', '2011', '2020',\n",
       "       '1919', '1949', '1922', '1897', '2024', '1376', '1926', '2037'],\n",
       "      dtype=object)"
      ]
     },
     "execution_count": 655,
     "metadata": {},
     "output_type": "execute_result"
    }
   ],
   "source": [
    "books['yearOfPublication'].unique()"
   ]
  },
  {
   "cell_type": "markdown",
   "metadata": {},
   "source": [
    "As it can be seen from above that there are some incorrect entries in this field. It looks like Publisher names 'DK Publishing Inc' and 'Gallimard' have been incorrectly loaded as yearOfPublication in dataset due to some errors in csv file.\n",
    "Also some of the entries are strings and same years have been entered as numbers in some places"
   ]
  },
  {
   "cell_type": "markdown",
   "metadata": {},
   "source": [
    "### Check the rows having 'DK Publishing Inc' as yearOfPublication and drop those rows"
   ]
  },
  {
   "cell_type": "markdown",
   "metadata": {},
   "source": [
    "#####  Same as below question - > answered below"
   ]
  },
  {
   "cell_type": "markdown",
   "metadata": {},
   "source": [
    "### Drop rows with yearOfPublication as 'Gallimard' and 'DK Publishing Inc'"
   ]
  },
  {
   "cell_type": "code",
   "execution_count": 656,
   "metadata": {},
   "outputs": [],
   "source": [
    "books.drop(books.loc[books['yearOfPublication']=='DK Publishing Inc'].index, inplace=True)\n",
    "books.drop(books.loc[books['yearOfPublication']=='Gallimard'].index, inplace=True)"
   ]
  },
  {
   "cell_type": "code",
   "execution_count": 657,
   "metadata": {},
   "outputs": [
    {
     "data": {
      "text/plain": [
       "array([2002, 2001, 1991, 1999, 2000, 1993, 1996, 1988, 2004, 1998, 1994,\n",
       "       2003, 1997, 1983, 1979, 1995, 1982, 1985, 1992, 1986, 1978, 1980,\n",
       "       1952, 1987, 1990, 1981, 1989, 1984, 0, 1968, 1961, 1958, 1974,\n",
       "       1976, 1971, 1977, 1975, 1965, 1941, 1970, 1962, 1973, 1972, 1960,\n",
       "       1966, 1920, 1956, 1959, 1953, 1951, 1942, 1963, 1964, 1969, 1954,\n",
       "       1950, 1967, 2005, 1957, 1940, 1937, 1955, 1946, 1936, 1930, 2011,\n",
       "       1925, 1948, 1943, 1947, 1945, 1923, 2020, 1939, 1926, 1938, 2030,\n",
       "       1911, 1904, 1949, 1932, 1928, 1929, 1927, 1931, 1914, 2050, 1934,\n",
       "       1910, 1933, 1902, 1924, 1921, 1900, 2038, 2026, 1944, 1917, 1901,\n",
       "       2010, 1908, 1906, 1935, 1806, 2021, '2000', '1995', '1999', '2004',\n",
       "       '2003', '1990', '1994', '1986', '1989', '2002', '1981', '1993',\n",
       "       '1983', '1982', '1976', '1991', '1977', '1998', '1992', '1996',\n",
       "       '0', '1997', '2001', '1974', '1968', '1987', '1984', '1988',\n",
       "       '1963', '1956', '1970', '1985', '1978', '1973', '1980', '1979',\n",
       "       '1975', '1969', '1961', '1965', '1939', '1958', '1950', '1953',\n",
       "       '1966', '1971', '1959', '1972', '1955', '1957', '1945', '1960',\n",
       "       '1967', '1932', '1924', '1964', '2012', '1911', '1927', '1948',\n",
       "       '1962', '2006', '1952', '1940', '1951', '1931', '1954', '2005',\n",
       "       '1930', '1941', '1944', '1943', '1938', '1900', '1942', '1923',\n",
       "       '1920', '1933', '1909', '1946', '2008', '1378', '2030', '1936',\n",
       "       '1947', '2011', '2020', '1919', '1949', '1922', '1897', '2024',\n",
       "       '1376', '1926', '2037'], dtype=object)"
      ]
     },
     "execution_count": 657,
     "metadata": {},
     "output_type": "execute_result"
    }
   ],
   "source": [
    "books['yearOfPublication'].unique()"
   ]
  },
  {
   "cell_type": "markdown",
   "metadata": {},
   "source": [
    "### Change the datatype of yearOfPublication to 'int32'"
   ]
  },
  {
   "cell_type": "code",
   "execution_count": 658,
   "metadata": {},
   "outputs": [
    {
     "name": "stdout",
     "output_type": "stream",
     "text": [
      "<class 'pandas.core.frame.DataFrame'>\n",
      "Int64Index: 271357 entries, 0 to 271359\n",
      "Data columns (total 5 columns):\n",
      "ISBN                 271357 non-null object\n",
      "bookTitle            271357 non-null object\n",
      "bookAuthor           271356 non-null object\n",
      "yearOfPublication    271357 non-null int32\n",
      "publisher            271355 non-null object\n",
      "dtypes: int32(1), object(4)\n",
      "memory usage: 11.4+ MB\n"
     ]
    }
   ],
   "source": [
    "books['yearOfPublication'] = books['yearOfPublication'].astype('int32')\n",
    "books.info()"
   ]
  },
  {
   "cell_type": "code",
   "execution_count": 659,
   "metadata": {},
   "outputs": [],
   "source": [
    "# Replacing 0 years with mode "
   ]
  },
  {
   "cell_type": "markdown",
   "metadata": {},
   "source": [
    "### drop NaNs in 'publisher' column"
   ]
  },
  {
   "cell_type": "code",
   "execution_count": 660,
   "metadata": {},
   "outputs": [
    {
     "data": {
      "text/plain": [
       "(271357, 5)"
      ]
     },
     "execution_count": 660,
     "metadata": {},
     "output_type": "execute_result"
    }
   ],
   "source": [
    "books.shape"
   ]
  },
  {
   "cell_type": "code",
   "execution_count": 661,
   "metadata": {},
   "outputs": [
    {
     "data": {
      "text/plain": [
       "ISBN                 0\n",
       "bookTitle            0\n",
       "bookAuthor           1\n",
       "yearOfPublication    0\n",
       "publisher            2\n",
       "dtype: int64"
      ]
     },
     "execution_count": 661,
     "metadata": {},
     "output_type": "execute_result"
    }
   ],
   "source": [
    "books.isnull().sum()"
   ]
  },
  {
   "cell_type": "code",
   "execution_count": 662,
   "metadata": {},
   "outputs": [],
   "source": [
    "books.dropna(inplace =True, subset = ['publisher'])\n",
    "books.dropna(inplace =True, subset = ['bookAuthor'])"
   ]
  },
  {
   "cell_type": "code",
   "execution_count": 663,
   "metadata": {},
   "outputs": [
    {
     "data": {
      "text/plain": [
       "ISBN                 0\n",
       "bookTitle            0\n",
       "bookAuthor           0\n",
       "yearOfPublication    0\n",
       "publisher            0\n",
       "dtype: int64"
      ]
     },
     "execution_count": 663,
     "metadata": {},
     "output_type": "execute_result"
    }
   ],
   "source": [
    "books.isnull().sum()"
   ]
  },
  {
   "cell_type": "markdown",
   "metadata": {},
   "source": [
    "### Users dataset:"
   ]
  },
  {
   "cell_type": "markdown",
   "metadata": {},
   "source": [
    "### List out the unique age values from age column"
   ]
  },
  {
   "cell_type": "code",
   "execution_count": 664,
   "metadata": {},
   "outputs": [
    {
     "data": {
      "text/plain": [
       "Index(['userID', 'Location', 'Age'], dtype='object')"
      ]
     },
     "execution_count": 664,
     "metadata": {},
     "output_type": "execute_result"
    }
   ],
   "source": [
    "users.columns"
   ]
  },
  {
   "cell_type": "code",
   "execution_count": 665,
   "metadata": {},
   "outputs": [
    {
     "name": "stdout",
     "output_type": "stream",
     "text": [
      "<class 'pandas.core.frame.DataFrame'>\n",
      "RangeIndex: 278858 entries, 0 to 278857\n",
      "Data columns (total 3 columns):\n",
      "userID      278858 non-null int64\n",
      "Location    278858 non-null object\n",
      "Age         168096 non-null float64\n",
      "dtypes: float64(1), int64(1), object(1)\n",
      "memory usage: 6.4+ MB\n"
     ]
    }
   ],
   "source": [
    "users.info()"
   ]
  },
  {
   "cell_type": "code",
   "execution_count": 666,
   "metadata": {},
   "outputs": [
    {
     "data": {
      "text/plain": [
       "array([ nan,  18.,  17.,  61.,  26.,  14.,  25.,  19.,  46.,  55.,  32.,\n",
       "        24.,  20.,  34.,  23.,  51.,  31.,  21.,  44.,  30.,  57.,  43.,\n",
       "        37.,  41.,  54.,  42.,  50.,  39.,  53.,  47.,  36.,  28.,  35.,\n",
       "        13.,  58.,  49.,  38.,  45.,  62.,  63.,  27.,  33.,  29.,  66.,\n",
       "        40.,  15.,  60.,   0.,  79.,  22.,  16.,  65.,  59.,  48.,  72.,\n",
       "        56.,  67.,   1.,  80.,  52.,  69.,  71.,  73.,  78.,   9.,  64.,\n",
       "       103., 104.,  12.,  74.,  75., 231.,   3.,  76.,  83.,  68., 119.,\n",
       "        11.,  77.,   2.,  70.,  93.,   8.,   7.,   4.,  81., 114., 230.,\n",
       "       239.,  10.,   5., 148., 151.,   6., 101., 201.,  96.,  84.,  82.,\n",
       "        90., 123., 244., 133.,  91., 128.,  94.,  85., 141., 110.,  97.,\n",
       "       219.,  86., 124.,  92., 175., 172., 209., 212., 237.,  87., 162.,\n",
       "       100., 156., 136.,  95.,  89., 106.,  99., 108., 210.,  88., 199.,\n",
       "       147., 168., 132., 159., 186., 152., 102., 116., 200., 115., 226.,\n",
       "       137., 207., 229., 138., 109., 105., 228., 183., 204.,  98., 223.,\n",
       "       113., 208., 107., 157., 111., 146., 118., 220., 143., 140., 189.,\n",
       "       127.])"
      ]
     },
     "execution_count": 666,
     "metadata": {},
     "output_type": "execute_result"
    }
   ],
   "source": [
    "users['Age'].unique()"
   ]
  },
  {
   "cell_type": "code",
   "execution_count": 667,
   "metadata": {},
   "outputs": [
    {
     "data": {
      "text/plain": [
       "userID      908\n",
       "Location    908\n",
       "Age         908\n",
       "dtype: int64"
      ]
     },
     "execution_count": 667,
     "metadata": {},
     "output_type": "execute_result"
    }
   ],
   "source": [
    "users[users['Age']<=5].count()"
   ]
  },
  {
   "cell_type": "code",
   "execution_count": 668,
   "metadata": {},
   "outputs": [
    {
     "data": {
      "text/plain": [
       "userID      430\n",
       "Location    430\n",
       "Age         430\n",
       "dtype: int64"
      ]
     },
     "execution_count": 668,
     "metadata": {},
     "output_type": "execute_result"
    }
   ],
   "source": [
    "users[users['Age']>90].count()"
   ]
  },
  {
   "cell_type": "markdown",
   "metadata": {},
   "source": [
    "### Values below 5 and above 90 do not make much sense for our book rating case. Hence replace these by NaNs"
   ]
  },
  {
   "cell_type": "code",
   "execution_count": 669,
   "metadata": {},
   "outputs": [],
   "source": [
    "users['Age'].where(((users['Age'] > 5)&(users['Age'] < 90)), np.NaN, inplace = True) "
   ]
  },
  {
   "cell_type": "code",
   "execution_count": 670,
   "metadata": {},
   "outputs": [
    {
     "data": {
      "text/plain": [
       "userID      0\n",
       "Location    0\n",
       "Age         0\n",
       "dtype: int64"
      ]
     },
     "execution_count": 670,
     "metadata": {},
     "output_type": "execute_result"
    }
   ],
   "source": [
    "users[users['Age']<=5].count()"
   ]
  },
  {
   "cell_type": "code",
   "execution_count": 671,
   "metadata": {},
   "outputs": [
    {
     "data": {
      "text/plain": [
       "userID      0\n",
       "Location    0\n",
       "Age         0\n",
       "dtype: int64"
      ]
     },
     "execution_count": 671,
     "metadata": {},
     "output_type": "execute_result"
    }
   ],
   "source": [
    "users[users['Age']>90].count()"
   ]
  },
  {
   "cell_type": "code",
   "execution_count": 672,
   "metadata": {},
   "outputs": [
    {
     "data": {
      "text/plain": [
       "array([nan, 18., 17., 61., 26., 14., 25., 19., 46., 55., 32., 24., 20.,\n",
       "       34., 23., 51., 31., 21., 44., 30., 57., 43., 37., 41., 54., 42.,\n",
       "       50., 39., 53., 47., 36., 28., 35., 13., 58., 49., 38., 45., 62.,\n",
       "       63., 27., 33., 29., 66., 40., 15., 60., 79., 22., 16., 65., 59.,\n",
       "       48., 72., 56., 67., 80., 52., 69., 71., 73., 78.,  9., 64., 12.,\n",
       "       74., 75., 76., 83., 68., 11., 77., 70.,  8.,  7., 81., 10.,  6.,\n",
       "       84., 82., 85., 86., 87., 89., 88.])"
      ]
     },
     "execution_count": 672,
     "metadata": {},
     "output_type": "execute_result"
    }
   ],
   "source": [
    "users['Age'].unique()"
   ]
  },
  {
   "cell_type": "markdown",
   "metadata": {},
   "source": [
    "### Replace null values with mean in Age column and  change datatype to int32"
   ]
  },
  {
   "cell_type": "code",
   "execution_count": 673,
   "metadata": {},
   "outputs": [
    {
     "data": {
      "text/plain": [
       "112105"
      ]
     },
     "execution_count": 673,
     "metadata": {},
     "output_type": "execute_result"
    }
   ],
   "source": [
    "users['Age'].isna().sum()"
   ]
  },
  {
   "cell_type": "code",
   "execution_count": 674,
   "metadata": {},
   "outputs": [],
   "source": [
    "users['Age'].fillna(users['Age'].mean(), inplace=True)"
   ]
  },
  {
   "cell_type": "code",
   "execution_count": 675,
   "metadata": {},
   "outputs": [
    {
     "data": {
      "text/plain": [
       "0"
      ]
     },
     "execution_count": 675,
     "metadata": {},
     "output_type": "execute_result"
    }
   ],
   "source": [
    "users['Age'].isna().sum()"
   ]
  },
  {
   "cell_type": "code",
   "execution_count": 676,
   "metadata": {},
   "outputs": [],
   "source": [
    "users['Age'] = users['Age'].astype('int32')"
   ]
  },
  {
   "cell_type": "code",
   "execution_count": 677,
   "metadata": {},
   "outputs": [
    {
     "name": "stdout",
     "output_type": "stream",
     "text": [
      "<class 'pandas.core.frame.DataFrame'>\n",
      "RangeIndex: 278858 entries, 0 to 278857\n",
      "Data columns (total 3 columns):\n",
      "userID      278858 non-null int64\n",
      "Location    278858 non-null object\n",
      "Age         278858 non-null int32\n",
      "dtypes: int32(1), int64(1), object(1)\n",
      "memory usage: 5.3+ MB\n"
     ]
    }
   ],
   "source": [
    "users.info()"
   ]
  },
  {
   "cell_type": "markdown",
   "metadata": {},
   "source": [
    "### Ratings dataset"
   ]
  },
  {
   "cell_type": "markdown",
   "metadata": {},
   "source": [
    "Ratings dataset will have n_users*n_books entries."
   ]
  },
  {
   "cell_type": "code",
   "execution_count": 678,
   "metadata": {},
   "outputs": [
    {
     "name": "stdout",
     "output_type": "stream",
     "text": [
      "75669233732\n"
     ]
    }
   ],
   "source": [
    "n_users = users.shape[0]\n",
    "n_books = books.shape[0]\n",
    "print(n_users * n_books)"
   ]
  },
  {
   "cell_type": "markdown",
   "metadata": {},
   "source": [
    "### Ratings dataset should have books only which exist in our books dataset. Create a new dataset which has only ratings of books present in books dataset. Use ISBN column as common column. Hint: check isin()"
   ]
  },
  {
   "cell_type": "code",
   "execution_count": 679,
   "metadata": {},
   "outputs": [
    {
     "data": {
      "text/plain": [
       "Index(['userID', 'ISBN', 'bookRating'], dtype='object')"
      ]
     },
     "execution_count": 679,
     "metadata": {},
     "output_type": "execute_result"
    }
   ],
   "source": [
    "ratings.columns"
   ]
  },
  {
   "cell_type": "code",
   "execution_count": 680,
   "metadata": {},
   "outputs": [
    {
     "data": {
      "text/plain": [
       "Index(['ISBN', 'bookTitle', 'bookAuthor', 'yearOfPublication', 'publisher'], dtype='object')"
      ]
     },
     "execution_count": 680,
     "metadata": {},
     "output_type": "execute_result"
    }
   ],
   "source": [
    "books.columns"
   ]
  },
  {
   "cell_type": "code",
   "execution_count": 681,
   "metadata": {},
   "outputs": [],
   "source": [
    "rating_new = ratings[ratings[\"ISBN\"].isin(books[\"ISBN\"])]"
   ]
  },
  {
   "cell_type": "code",
   "execution_count": 682,
   "metadata": {},
   "outputs": [
    {
     "data": {
      "text/html": [
       "<div>\n",
       "<style scoped>\n",
       "    .dataframe tbody tr th:only-of-type {\n",
       "        vertical-align: middle;\n",
       "    }\n",
       "\n",
       "    .dataframe tbody tr th {\n",
       "        vertical-align: top;\n",
       "    }\n",
       "\n",
       "    .dataframe thead th {\n",
       "        text-align: right;\n",
       "    }\n",
       "</style>\n",
       "<table border=\"1\" class=\"dataframe\">\n",
       "  <thead>\n",
       "    <tr style=\"text-align: right;\">\n",
       "      <th></th>\n",
       "      <th>userID</th>\n",
       "      <th>ISBN</th>\n",
       "      <th>bookRating</th>\n",
       "    </tr>\n",
       "  </thead>\n",
       "  <tbody>\n",
       "    <tr>\n",
       "      <th>0</th>\n",
       "      <td>276725</td>\n",
       "      <td>034545104X</td>\n",
       "      <td>0</td>\n",
       "    </tr>\n",
       "    <tr>\n",
       "      <th>1</th>\n",
       "      <td>276726</td>\n",
       "      <td>0155061224</td>\n",
       "      <td>5</td>\n",
       "    </tr>\n",
       "    <tr>\n",
       "      <th>2</th>\n",
       "      <td>276727</td>\n",
       "      <td>0446520802</td>\n",
       "      <td>0</td>\n",
       "    </tr>\n",
       "    <tr>\n",
       "      <th>3</th>\n",
       "      <td>276729</td>\n",
       "      <td>052165615X</td>\n",
       "      <td>3</td>\n",
       "    </tr>\n",
       "    <tr>\n",
       "      <th>4</th>\n",
       "      <td>276729</td>\n",
       "      <td>0521795028</td>\n",
       "      <td>6</td>\n",
       "    </tr>\n",
       "  </tbody>\n",
       "</table>\n",
       "</div>"
      ],
      "text/plain": [
       "   userID        ISBN  bookRating\n",
       "0  276725  034545104X           0\n",
       "1  276726  0155061224           5\n",
       "2  276727  0446520802           0\n",
       "3  276729  052165615X           3\n",
       "4  276729  0521795028           6"
      ]
     },
     "execution_count": 682,
     "metadata": {},
     "output_type": "execute_result"
    }
   ],
   "source": [
    "rating_new.head()"
   ]
  },
  {
   "cell_type": "code",
   "execution_count": 683,
   "metadata": {},
   "outputs": [
    {
     "data": {
      "text/plain": [
       "(1149780, 3)"
      ]
     },
     "execution_count": 683,
     "metadata": {},
     "output_type": "execute_result"
    }
   ],
   "source": [
    "ratings.shape"
   ]
  },
  {
   "cell_type": "markdown",
   "metadata": {},
   "source": [
    "### Check the old ratings and new ratings shape"
   ]
  },
  {
   "cell_type": "code",
   "execution_count": 684,
   "metadata": {},
   "outputs": [
    {
     "name": "stdout",
     "output_type": "stream",
     "text": [
      "(1149780, 3)\n",
      "(1031129, 3)\n"
     ]
    }
   ],
   "source": [
    "print(ratings.shape)\n",
    "print(rating_new.shape)"
   ]
  },
  {
   "cell_type": "code",
   "execution_count": 685,
   "metadata": {},
   "outputs": [
    {
     "data": {
      "text/html": [
       "<div>\n",
       "<style scoped>\n",
       "    .dataframe tbody tr th:only-of-type {\n",
       "        vertical-align: middle;\n",
       "    }\n",
       "\n",
       "    .dataframe tbody tr th {\n",
       "        vertical-align: top;\n",
       "    }\n",
       "\n",
       "    .dataframe thead th {\n",
       "        text-align: right;\n",
       "    }\n",
       "</style>\n",
       "<table border=\"1\" class=\"dataframe\">\n",
       "  <thead>\n",
       "    <tr style=\"text-align: right;\">\n",
       "      <th></th>\n",
       "      <th>userID</th>\n",
       "      <th>ISBN</th>\n",
       "      <th>bookRating</th>\n",
       "    </tr>\n",
       "  </thead>\n",
       "  <tbody>\n",
       "    <tr>\n",
       "      <th>0</th>\n",
       "      <td>276725</td>\n",
       "      <td>034545104X</td>\n",
       "      <td>0</td>\n",
       "    </tr>\n",
       "    <tr>\n",
       "      <th>1</th>\n",
       "      <td>276726</td>\n",
       "      <td>0155061224</td>\n",
       "      <td>5</td>\n",
       "    </tr>\n",
       "    <tr>\n",
       "      <th>2</th>\n",
       "      <td>276727</td>\n",
       "      <td>0446520802</td>\n",
       "      <td>0</td>\n",
       "    </tr>\n",
       "    <tr>\n",
       "      <th>3</th>\n",
       "      <td>276729</td>\n",
       "      <td>052165615X</td>\n",
       "      <td>3</td>\n",
       "    </tr>\n",
       "    <tr>\n",
       "      <th>4</th>\n",
       "      <td>276729</td>\n",
       "      <td>0521795028</td>\n",
       "      <td>6</td>\n",
       "    </tr>\n",
       "  </tbody>\n",
       "</table>\n",
       "</div>"
      ],
      "text/plain": [
       "   userID        ISBN  bookRating\n",
       "0  276725  034545104X           0\n",
       "1  276726  0155061224           5\n",
       "2  276727  0446520802           0\n",
       "3  276729  052165615X           3\n",
       "4  276729  0521795028           6"
      ]
     },
     "execution_count": 685,
     "metadata": {},
     "output_type": "execute_result"
    }
   ],
   "source": [
    "rating_new.head()"
   ]
  },
  {
   "cell_type": "markdown",
   "metadata": {},
   "source": [
    "It can be seen that many rows having book ISBN not part of books dataset got dropped off"
   ]
  },
  {
   "cell_type": "markdown",
   "metadata": {},
   "source": [
    "### Similarly, the ratings dataset should contain information only about users present in Users dataset. Filter out records of only those users present in users dataset from the ratings dataset. Use userID as the common column. Hint: check isin() "
   ]
  },
  {
   "cell_type": "code",
   "execution_count": 686,
   "metadata": {},
   "outputs": [],
   "source": [
    "rating_new2 = rating_new[rating_new[\"userID\"].isin(users[\"userID\"])]"
   ]
  },
  {
   "cell_type": "code",
   "execution_count": 687,
   "metadata": {},
   "outputs": [
    {
     "data": {
      "text/plain": [
       "(1031129, 3)"
      ]
     },
     "execution_count": 687,
     "metadata": {},
     "output_type": "execute_result"
    }
   ],
   "source": [
    "rating_new2.shape"
   ]
  },
  {
   "cell_type": "markdown",
   "metadata": {},
   "source": [
    "### Check unique book ratings"
   ]
  },
  {
   "cell_type": "code",
   "execution_count": 688,
   "metadata": {},
   "outputs": [
    {
     "data": {
      "text/plain": [
       "array([ 0,  1,  2,  3,  4,  5,  6,  7,  8,  9, 10], dtype=int64)"
      ]
     },
     "execution_count": 688,
     "metadata": {},
     "output_type": "execute_result"
    }
   ],
   "source": [
    "np.unique(rating_new2.bookRating)"
   ]
  },
  {
   "cell_type": "markdown",
   "metadata": {},
   "source": [
    "### Segregate dataset into two. One with only 0 ratings and the rest with other ratings."
   ]
  },
  {
   "cell_type": "code",
   "execution_count": 689,
   "metadata": {},
   "outputs": [],
   "source": [
    "low_rating = rating_new2[rating_new2[\"bookRating\"] == 0]\n",
    "high_rating = rating_new2[rating_new2[\"bookRating\"] != 0]"
   ]
  },
  {
   "cell_type": "code",
   "execution_count": 690,
   "metadata": {},
   "outputs": [
    {
     "name": "stdout",
     "output_type": "stream",
     "text": [
      "    userID        ISBN  bookRating\n",
      "0   276725  034545104X           0\n",
      "2   276727  0446520802           0\n",
      "5   276733  2080674722           0\n",
      "10  276746  0425115801           0\n",
      "11  276746  0449006522           0\n",
      "(647291, 3)\n",
      "[0]\n"
     ]
    }
   ],
   "source": [
    "print(low_rating.head())\n",
    "print(low_rating.shape)\n",
    "print(low_rating['bookRating'].unique())"
   ]
  },
  {
   "cell_type": "code",
   "execution_count": 691,
   "metadata": {},
   "outputs": [
    {
     "name": "stdout",
     "output_type": "stream",
     "text": [
      "    userID        ISBN  bookRating\n",
      "1   276726  0155061224           5\n",
      "3   276729  052165615X           3\n",
      "4   276729  0521795028           6\n",
      "8   276744  038550120X           7\n",
      "16  276747  0060517794           9\n",
      "(383838, 3)\n",
      "[ 5  3  6  7  9  8 10  1  4  2]\n"
     ]
    }
   ],
   "source": [
    "print(high_rating.head())\n",
    "print(high_rating.shape)\n",
    "print(high_rating['bookRating'].unique())"
   ]
  },
  {
   "cell_type": "markdown",
   "metadata": {},
   "source": [
    "### Plot the ratings data using countplot. Use bookRating in X axis"
   ]
  },
  {
   "cell_type": "code",
   "execution_count": 692,
   "metadata": {},
   "outputs": [
    {
     "data": {
      "text/plain": [
       "<matplotlib.axes._subplots.AxesSubplot at 0x1afb79bbb38>"
      ]
     },
     "execution_count": 692,
     "metadata": {},
     "output_type": "execute_result"
    },
    {
     "data": {
      "image/png": "[encoded data removed]",
      "text/plain": [
       "<Figure size 432x288 with 1 Axes>"
      ]
     },
     "metadata": {
      "needs_background": "light"
     },
     "output_type": "display_data"
    }
   ],
   "source": [
    "sns.countplot(x=rating_new2[\"bookRating\"])"
   ]
  },
  {
   "cell_type": "code",
   "execution_count": 693,
   "metadata": {},
   "outputs": [
    {
     "data": {
      "text/plain": [
       "<matplotlib.axes._subplots.AxesSubplot at 0x1afb4740e10>"
      ]
     },
     "execution_count": 693,
     "metadata": {},
     "output_type": "execute_result"
    },
    {
     "data": {
      "image/png": "[encoded data removed]",
      "text/plain": [
       "<Figure size 432x288 with 1 Axes>"
      ]
     },
     "metadata": {
      "needs_background": "light"
     },
     "output_type": "display_data"
    }
   ],
   "source": [
    "sns.countplot(x=high_rating[\"bookRating\"], palette=\"Set3\")"
   ]
  },
  {
   "cell_type": "markdown",
   "metadata": {},
   "source": [
    "### For more accurate results only consider users who have rated atleast 100 books"
   ]
  },
  {
   "cell_type": "markdown",
   "metadata": {},
   "source": [
    "Take value counts of userId column into a separate Series or DF.\n",
    "\n",
    "From ratings dataset having ratings 1 to 9, filter only rows for those users who have rated atleast 100 times.\n",
    "\n",
    "Use isin.\n",
    "\n",
    "example: \n",
    "\n",
    "df_cnt =  df.column.value_counts()\n",
    "\n",
    "ratings_df = ratings_df[ratings_df.column.isin(df_cnt[df_cnt >=100].index)]"
   ]
  },
  {
   "cell_type": "code",
   "execution_count": 694,
   "metadata": {},
   "outputs": [
    {
     "data": {
      "text/plain": [
       "11676     6943\n",
       "98391     5689\n",
       "189835    1899\n",
       "153662    1845\n",
       "23902     1180\n",
       "235105    1020\n",
       "76499     1012\n",
       "171118     962\n",
       "16795      959\n",
       "248718     941\n",
       "56399      837\n",
       "197659     781\n",
       "35859      777\n",
       "185233     698\n",
       "95359      606\n",
       "114368     603\n",
       "158295     567\n",
       "101851     563\n",
       "177458     524\n",
       "204864     504\n",
       "93047      501\n",
       "69078      499\n",
       "182085     498\n",
       "135149     487\n",
       "100906     484\n",
       "107784     482\n",
       "78973      479\n",
       "23872      478\n",
       "60244      476\n",
       "257204     475\n",
       "          ... \n",
       "216045       1\n",
       "211939       1\n",
       "251025       1\n",
       "177106       1\n",
       "173008       1\n",
       "142273       1\n",
       "123832       1\n",
       "81059        1\n",
       "83116        1\n",
       "89263        1\n",
       "267369       1\n",
       "44433        1\n",
       "42384        1\n",
       "23951        1\n",
       "33787        1\n",
       "13698        1\n",
       "269575       1\n",
       "265477       1\n",
       "261371       1\n",
       "214252       1\n",
       "109745       1\n",
       "195803       1\n",
       "179411       1\n",
       "154831       1\n",
       "152782       1\n",
       "148684       1\n",
       "124088       1\n",
       "105655       1\n",
       "103606       1\n",
       "211175       1\n",
       "Name: userID, Length: 68091, dtype: int64"
      ]
     },
     "execution_count": 694,
     "metadata": {},
     "output_type": "execute_result"
    }
   ],
   "source": [
    "df_cnt = high_rating[\"userID\"].value_counts()\n",
    "df_cnt"
   ]
  },
  {
   "cell_type": "code",
   "execution_count": 695,
   "metadata": {},
   "outputs": [],
   "source": [
    "ratings_df = high_rating[high_rating[\"userID\"].isin(df_cnt[df_cnt >=100].index)]"
   ]
  },
  {
   "cell_type": "code",
   "execution_count": 696,
   "metadata": {},
   "outputs": [
    {
     "data": {
      "text/html": [
       "<div>\n",
       "<style scoped>\n",
       "    .dataframe tbody tr th:only-of-type {\n",
       "        vertical-align: middle;\n",
       "    }\n",
       "\n",
       "    .dataframe tbody tr th {\n",
       "        vertical-align: top;\n",
       "    }\n",
       "\n",
       "    .dataframe thead th {\n",
       "        text-align: right;\n",
       "    }\n",
       "</style>\n",
       "<table border=\"1\" class=\"dataframe\">\n",
       "  <thead>\n",
       "    <tr style=\"text-align: right;\">\n",
       "      <th></th>\n",
       "      <th>userID</th>\n",
       "      <th>ISBN</th>\n",
       "      <th>bookRating</th>\n",
       "    </tr>\n",
       "  </thead>\n",
       "  <tbody>\n",
       "    <tr>\n",
       "      <th>1456</th>\n",
       "      <td>277427</td>\n",
       "      <td>002542730X</td>\n",
       "      <td>10</td>\n",
       "    </tr>\n",
       "    <tr>\n",
       "      <th>1458</th>\n",
       "      <td>277427</td>\n",
       "      <td>003008685X</td>\n",
       "      <td>8</td>\n",
       "    </tr>\n",
       "    <tr>\n",
       "      <th>1461</th>\n",
       "      <td>277427</td>\n",
       "      <td>0060006641</td>\n",
       "      <td>10</td>\n",
       "    </tr>\n",
       "    <tr>\n",
       "      <th>1465</th>\n",
       "      <td>277427</td>\n",
       "      <td>0060542128</td>\n",
       "      <td>7</td>\n",
       "    </tr>\n",
       "    <tr>\n",
       "      <th>1474</th>\n",
       "      <td>277427</td>\n",
       "      <td>0061009059</td>\n",
       "      <td>9</td>\n",
       "    </tr>\n",
       "    <tr>\n",
       "      <th>1477</th>\n",
       "      <td>277427</td>\n",
       "      <td>0062507109</td>\n",
       "      <td>8</td>\n",
       "    </tr>\n",
       "    <tr>\n",
       "      <th>1483</th>\n",
       "      <td>277427</td>\n",
       "      <td>0132220598</td>\n",
       "      <td>8</td>\n",
       "    </tr>\n",
       "    <tr>\n",
       "      <th>1488</th>\n",
       "      <td>277427</td>\n",
       "      <td>0140283374</td>\n",
       "      <td>6</td>\n",
       "    </tr>\n",
       "    <tr>\n",
       "      <th>1490</th>\n",
       "      <td>277427</td>\n",
       "      <td>014039026X</td>\n",
       "      <td>8</td>\n",
       "    </tr>\n",
       "    <tr>\n",
       "      <th>1491</th>\n",
       "      <td>277427</td>\n",
       "      <td>0140390715</td>\n",
       "      <td>7</td>\n",
       "    </tr>\n",
       "    <tr>\n",
       "      <th>1494</th>\n",
       "      <td>277427</td>\n",
       "      <td>0141439742</td>\n",
       "      <td>8</td>\n",
       "    </tr>\n",
       "    <tr>\n",
       "      <th>1497</th>\n",
       "      <td>277427</td>\n",
       "      <td>0152050167</td>\n",
       "      <td>10</td>\n",
       "    </tr>\n",
       "    <tr>\n",
       "      <th>1501</th>\n",
       "      <td>277427</td>\n",
       "      <td>0201000822</td>\n",
       "      <td>10</td>\n",
       "    </tr>\n",
       "    <tr>\n",
       "      <th>1506</th>\n",
       "      <td>277427</td>\n",
       "      <td>0310435706</td>\n",
       "      <td>10</td>\n",
       "    </tr>\n",
       "    <tr>\n",
       "      <th>1509</th>\n",
       "      <td>277427</td>\n",
       "      <td>0312944691</td>\n",
       "      <td>8</td>\n",
       "    </tr>\n",
       "    <tr>\n",
       "      <th>1522</th>\n",
       "      <td>277427</td>\n",
       "      <td>0316776963</td>\n",
       "      <td>8</td>\n",
       "    </tr>\n",
       "    <tr>\n",
       "      <th>1543</th>\n",
       "      <td>277427</td>\n",
       "      <td>0345413903</td>\n",
       "      <td>10</td>\n",
       "    </tr>\n",
       "    <tr>\n",
       "      <th>1554</th>\n",
       "      <td>277427</td>\n",
       "      <td>0375408886</td>\n",
       "      <td>9</td>\n",
       "    </tr>\n",
       "    <tr>\n",
       "      <th>1560</th>\n",
       "      <td>277427</td>\n",
       "      <td>0375751513</td>\n",
       "      <td>9</td>\n",
       "    </tr>\n",
       "    <tr>\n",
       "      <th>1564</th>\n",
       "      <td>277427</td>\n",
       "      <td>0380702843</td>\n",
       "      <td>8</td>\n",
       "    </tr>\n",
       "  </tbody>\n",
       "</table>\n",
       "</div>"
      ],
      "text/plain": [
       "      userID        ISBN  bookRating\n",
       "1456  277427  002542730X          10\n",
       "1458  277427  003008685X           8\n",
       "1461  277427  0060006641          10\n",
       "1465  277427  0060542128           7\n",
       "1474  277427  0061009059           9\n",
       "1477  277427  0062507109           8\n",
       "1483  277427  0132220598           8\n",
       "1488  277427  0140283374           6\n",
       "1490  277427  014039026X           8\n",
       "1491  277427  0140390715           7\n",
       "1494  277427  0141439742           8\n",
       "1497  277427  0152050167          10\n",
       "1501  277427  0201000822          10\n",
       "1506  277427  0310435706          10\n",
       "1509  277427  0312944691           8\n",
       "1522  277427  0316776963           8\n",
       "1543  277427  0345413903          10\n",
       "1554  277427  0375408886           9\n",
       "1560  277427  0375751513           9\n",
       "1564  277427  0380702843           8"
      ]
     },
     "execution_count": 696,
     "metadata": {},
     "output_type": "execute_result"
    }
   ],
   "source": [
    "ratings_df.head(20)"
   ]
  },
  {
   "cell_type": "code",
   "execution_count": 697,
   "metadata": {},
   "outputs": [
    {
     "data": {
      "text/plain": [
       "(103269, 3)"
      ]
     },
     "execution_count": 697,
     "metadata": {},
     "output_type": "execute_result"
    }
   ],
   "source": [
    "ratings_df.shape"
   ]
  },
  {
   "cell_type": "code",
   "execution_count": 698,
   "metadata": {},
   "outputs": [
    {
     "data": {
      "text/plain": [
       "array([277427, 278418,   2033,   2110,   2276,   4017,   4385,   5582,\n",
       "         6242,   6251,   6543,   6575,   7286,   7346,   8067,   8245,\n",
       "         8681,   8890,  10560,  11676,  11993,  12538,  12824,  12982,\n",
       "        13552,  13850,  14422,  15408,  15418,  16634,  16795,  16966,\n",
       "        17950,  19085,  21014,  23768,  23872,  23902,  25409,  25601,\n",
       "        25981,  26535,  26544,  26583,  28591,  28634,  29259,  30276,\n",
       "        30511,  30711,  30735,  30810,  31315,  31556,  31826,  32773,\n",
       "        33145,  35433,  35836,  35857,  35859,  36299,  36554,  36606,\n",
       "        36609,  36836,  36907,  37644,  37712,  37950,  38023,  38273,\n",
       "        38281,  39281,  39467,  40889,  40943,  43246,  43910,  46398,\n",
       "        47316,  48025,  48494,  49144,  49889,  51883,  52199,  52350,\n",
       "        52584,  52614,  52917,  53220,  55187,  55490,  55492,  56271,\n",
       "        56399,  56447,  56554,  56959,  59172,  60244,  60337,  60707,\n",
       "        63714,  63956,  65258,  66942,  67840,  68555,  69078,  69389,\n",
       "        69697,  70415,  70594,  70666,  72352,  73681,  75591,  75819,\n",
       "        76151,  76223,  76499,  76626,  78553,  78783,  78834,  78973,\n",
       "        79441,  81492,  81560,  83287,  83637,  83671,  85526,  85656,\n",
       "        86189,  86947,  87141,  87555,  88283,  88677,  88693,  88733,\n",
       "        89602,  91113,  92652,  92810,  93047,  93363,  93629,  94242,\n",
       "        94347,  94853,  94951,  95010,  95359,  95902,  95932,  96448,\n",
       "        97754,  97874,  98391,  98758, 100459, 100906, 101209, 101606,\n",
       "       101851, 102359, 102647, 102702, 102967, 104399, 104636, 105028,\n",
       "       105517, 105979, 106007, 107784, 107951, 109574, 109901, 109955,\n",
       "       110483, 110912, 110934, 110973, 112001, 113270, 113519, 114368,\n",
       "       114868, 114988, 115002, 115003, 116599, 117384, 120565, 122429,\n",
       "       122793, 123094, 123608, 123883, 123981, 125519, 125774, 126492,\n",
       "       126736, 127200, 127359, 128835, 129074, 129716, 129851, 130554,\n",
       "       130571, 132492, 132836, 133747, 134434, 135149, 135265, 136010,\n",
       "       136139, 136348, 136382, 138578, 138844, 140000, 140358, 141902,\n",
       "       142524, 143175, 143253, 143415, 145449, 146113, 146348, 147847,\n",
       "       148199, 148258, 148744, 148966, 149907, 149908, 150979, 153662,\n",
       "       156150, 156269, 156300, 156467, 157247, 157273, 158226, 158295,\n",
       "       158433, 159506, 160295, 162052, 162639, 162738, 163759, 163761,\n",
       "       163804, 163973, 164096, 164323, 164533, 164828, 164905, 165308,\n",
       "       165319, 165758, 166123, 166596, 168047, 168245, 169682, 170513,\n",
       "       170634, 171118, 172030, 172742, 172888, 173291, 173415, 174304,\n",
       "       174892, 177072, 177432, 177458, 178522, 179718, 179978, 180378,\n",
       "       180651, 181176, 182085, 182086, 182993, 183958, 183995, 184299,\n",
       "       184532, 185233, 185384, 187145, 187256, 187517, 189139, 189334,\n",
       "       189835, 189973, 190708, 190925, 193458, 193560, 193898, 194600,\n",
       "       196077, 196160, 196502, 197659, 199416, 200226, 201290, 203240,\n",
       "       204864, 205735, 205943, 206534, 207782, 208406, 208671, 209516,\n",
       "       210485, 211426, 211919, 212965, 214786, 216012, 216444, 216683,\n",
       "       217106, 217318, 217740, 218552, 218608, 219546, 219683, 222204,\n",
       "       222296, 223087, 223501, 224349, 224525, 224646, 224764, 225087,\n",
       "       225199, 225232, 225595, 225763, 226965, 227250, 227447, 227520,\n",
       "       227705, 229011, 229329, 229551, 229741, 230522, 231210, 232131,\n",
       "       232945, 233911, 234359, 234828, 235105, 235282, 235935, 236058,\n",
       "       236283, 236340, 236757, 236948, 239584, 239594, 240144, 240403,\n",
       "       240543, 240567, 240568, 241198, 241666, 241980, 242006, 242083,\n",
       "       242409, 242465, 244627, 244685, 245410, 245827, 246311, 247429,\n",
       "       247447, 248718, 249894, 250405, 250709, 251394, 251843, 251844,\n",
       "       252695, 252820, 254206, 254465, 254899, 255489, 257204, 258152,\n",
       "       258185, 258534, 261105, 261829, 262998, 264031, 264082, 264321,\n",
       "       264525, 265115, 265313, 265889, 266056, 266226, 268110, 268300,\n",
       "       268932, 269566, 270713, 271448, 271705, 273113, 274061, 274301,\n",
       "       275970], dtype=int64)"
      ]
     },
     "execution_count": 698,
     "metadata": {},
     "output_type": "execute_result"
    }
   ],
   "source": [
    "ratings_df['userID'].unique()"
   ]
  },
  {
   "cell_type": "markdown",
   "metadata": {},
   "source": [
    "### Generating ratings matrix from explicit ratings table"
   ]
  },
  {
   "cell_type": "markdown",
   "metadata": {},
   "source": [
    "Since NaNs cannot be handled by training algorithms, replacing those by 0, which indicates absence of ratings.\n",
    "\n",
    "Example.\n",
    "\n",
    "ratings_matrix = ratingdf.pivot(index='userID', columns='ISBN', values='bookRating').fillna(0)"
   ]
  },
  {
   "cell_type": "code",
   "execution_count": 699,
   "metadata": {},
   "outputs": [
    {
     "name": "stdout",
     "output_type": "stream",
     "text": [
      "(449, 66572)\n"
     ]
    },
    {
     "data": {
      "text/html": [
       "<div>\n",
       "<style scoped>\n",
       "    .dataframe tbody tr th:only-of-type {\n",
       "        vertical-align: middle;\n",
       "    }\n",
       "\n",
       "    .dataframe tbody tr th {\n",
       "        vertical-align: top;\n",
       "    }\n",
       "\n",
       "    .dataframe thead th {\n",
       "        text-align: right;\n",
       "    }\n",
       "</style>\n",
       "<table border=\"1\" class=\"dataframe\">\n",
       "  <thead>\n",
       "    <tr style=\"text-align: right;\">\n",
       "      <th>ISBN</th>\n",
       "      <th>0000913154</th>\n",
       "      <th>0001046438</th>\n",
       "      <th>000104687X</th>\n",
       "      <th>0001047213</th>\n",
       "      <th>0001047973</th>\n",
       "      <th>000104799X</th>\n",
       "      <th>0001048082</th>\n",
       "      <th>0001053736</th>\n",
       "      <th>0001053744</th>\n",
       "      <th>0001055607</th>\n",
       "      <th>...</th>\n",
       "      <th>B000092Q0A</th>\n",
       "      <th>B00009EF82</th>\n",
       "      <th>B00009NDAN</th>\n",
       "      <th>B0000DYXID</th>\n",
       "      <th>B0000T6KHI</th>\n",
       "      <th>B0000VZEJQ</th>\n",
       "      <th>B0000X8HIE</th>\n",
       "      <th>B00013AX9E</th>\n",
       "      <th>B0001I1KOG</th>\n",
       "      <th>B000234N3A</th>\n",
       "    </tr>\n",
       "    <tr>\n",
       "      <th>userID</th>\n",
       "      <th></th>\n",
       "      <th></th>\n",
       "      <th></th>\n",
       "      <th></th>\n",
       "      <th></th>\n",
       "      <th></th>\n",
       "      <th></th>\n",
       "      <th></th>\n",
       "      <th></th>\n",
       "      <th></th>\n",
       "      <th></th>\n",
       "      <th></th>\n",
       "      <th></th>\n",
       "      <th></th>\n",
       "      <th></th>\n",
       "      <th></th>\n",
       "      <th></th>\n",
       "      <th></th>\n",
       "      <th></th>\n",
       "      <th></th>\n",
       "      <th></th>\n",
       "    </tr>\n",
       "  </thead>\n",
       "  <tbody>\n",
       "    <tr>\n",
       "      <th>2033</th>\n",
       "      <td>0.0</td>\n",
       "      <td>0.0</td>\n",
       "      <td>0.0</td>\n",
       "      <td>0.0</td>\n",
       "      <td>0.0</td>\n",
       "      <td>0.0</td>\n",
       "      <td>0.0</td>\n",
       "      <td>0.0</td>\n",
       "      <td>0.0</td>\n",
       "      <td>0.0</td>\n",
       "      <td>...</td>\n",
       "      <td>0.0</td>\n",
       "      <td>0.0</td>\n",
       "      <td>0.0</td>\n",
       "      <td>0.0</td>\n",
       "      <td>0.0</td>\n",
       "      <td>0.0</td>\n",
       "      <td>0.0</td>\n",
       "      <td>0.0</td>\n",
       "      <td>0.0</td>\n",
       "      <td>0.0</td>\n",
       "    </tr>\n",
       "    <tr>\n",
       "      <th>2110</th>\n",
       "      <td>0.0</td>\n",
       "      <td>0.0</td>\n",
       "      <td>0.0</td>\n",
       "      <td>0.0</td>\n",
       "      <td>0.0</td>\n",
       "      <td>0.0</td>\n",
       "      <td>0.0</td>\n",
       "      <td>0.0</td>\n",
       "      <td>0.0</td>\n",
       "      <td>0.0</td>\n",
       "      <td>...</td>\n",
       "      <td>0.0</td>\n",
       "      <td>0.0</td>\n",
       "      <td>0.0</td>\n",
       "      <td>0.0</td>\n",
       "      <td>0.0</td>\n",
       "      <td>0.0</td>\n",
       "      <td>0.0</td>\n",
       "      <td>0.0</td>\n",
       "      <td>0.0</td>\n",
       "      <td>0.0</td>\n",
       "    </tr>\n",
       "    <tr>\n",
       "      <th>2276</th>\n",
       "      <td>0.0</td>\n",
       "      <td>0.0</td>\n",
       "      <td>0.0</td>\n",
       "      <td>0.0</td>\n",
       "      <td>0.0</td>\n",
       "      <td>0.0</td>\n",
       "      <td>0.0</td>\n",
       "      <td>0.0</td>\n",
       "      <td>0.0</td>\n",
       "      <td>0.0</td>\n",
       "      <td>...</td>\n",
       "      <td>0.0</td>\n",
       "      <td>0.0</td>\n",
       "      <td>0.0</td>\n",
       "      <td>0.0</td>\n",
       "      <td>0.0</td>\n",
       "      <td>0.0</td>\n",
       "      <td>0.0</td>\n",
       "      <td>0.0</td>\n",
       "      <td>0.0</td>\n",
       "      <td>0.0</td>\n",
       "    </tr>\n",
       "    <tr>\n",
       "      <th>4017</th>\n",
       "      <td>0.0</td>\n",
       "      <td>0.0</td>\n",
       "      <td>0.0</td>\n",
       "      <td>0.0</td>\n",
       "      <td>0.0</td>\n",
       "      <td>0.0</td>\n",
       "      <td>0.0</td>\n",
       "      <td>0.0</td>\n",
       "      <td>0.0</td>\n",
       "      <td>0.0</td>\n",
       "      <td>...</td>\n",
       "      <td>0.0</td>\n",
       "      <td>0.0</td>\n",
       "      <td>0.0</td>\n",
       "      <td>0.0</td>\n",
       "      <td>0.0</td>\n",
       "      <td>0.0</td>\n",
       "      <td>0.0</td>\n",
       "      <td>0.0</td>\n",
       "      <td>0.0</td>\n",
       "      <td>0.0</td>\n",
       "    </tr>\n",
       "    <tr>\n",
       "      <th>4385</th>\n",
       "      <td>0.0</td>\n",
       "      <td>0.0</td>\n",
       "      <td>0.0</td>\n",
       "      <td>0.0</td>\n",
       "      <td>0.0</td>\n",
       "      <td>0.0</td>\n",
       "      <td>0.0</td>\n",
       "      <td>0.0</td>\n",
       "      <td>0.0</td>\n",
       "      <td>0.0</td>\n",
       "      <td>...</td>\n",
       "      <td>0.0</td>\n",
       "      <td>0.0</td>\n",
       "      <td>0.0</td>\n",
       "      <td>0.0</td>\n",
       "      <td>0.0</td>\n",
       "      <td>0.0</td>\n",
       "      <td>0.0</td>\n",
       "      <td>0.0</td>\n",
       "      <td>0.0</td>\n",
       "      <td>0.0</td>\n",
       "    </tr>\n",
       "  </tbody>\n",
       "</table>\n",
       "<p>5 rows × 66572 columns</p>\n",
       "</div>"
      ],
      "text/plain": [
       "ISBN    0000913154  0001046438  000104687X  0001047213  0001047973  \\\n",
       "userID                                                               \n",
       "2033           0.0         0.0         0.0         0.0         0.0   \n",
       "2110           0.0         0.0         0.0         0.0         0.0   \n",
       "2276           0.0         0.0         0.0         0.0         0.0   \n",
       "4017           0.0         0.0         0.0         0.0         0.0   \n",
       "4385           0.0         0.0         0.0         0.0         0.0   \n",
       "\n",
       "ISBN    000104799X  0001048082  0001053736  0001053744  0001055607  \\\n",
       "userID                                                               \n",
       "2033           0.0         0.0         0.0         0.0         0.0   \n",
       "2110           0.0         0.0         0.0         0.0         0.0   \n",
       "2276           0.0         0.0         0.0         0.0         0.0   \n",
       "4017           0.0         0.0         0.0         0.0         0.0   \n",
       "4385           0.0         0.0         0.0         0.0         0.0   \n",
       "\n",
       "ISBN       ...      B000092Q0A  B00009EF82  B00009NDAN  B0000DYXID  \\\n",
       "userID     ...                                                       \n",
       "2033       ...             0.0         0.0         0.0         0.0   \n",
       "2110       ...             0.0         0.0         0.0         0.0   \n",
       "2276       ...             0.0         0.0         0.0         0.0   \n",
       "4017       ...             0.0         0.0         0.0         0.0   \n",
       "4385       ...             0.0         0.0         0.0         0.0   \n",
       "\n",
       "ISBN    B0000T6KHI  B0000VZEJQ  B0000X8HIE  B00013AX9E  B0001I1KOG  B000234N3A  \n",
       "userID                                                                          \n",
       "2033           0.0         0.0         0.0         0.0         0.0         0.0  \n",
       "2110           0.0         0.0         0.0         0.0         0.0         0.0  \n",
       "2276           0.0         0.0         0.0         0.0         0.0         0.0  \n",
       "4017           0.0         0.0         0.0         0.0         0.0         0.0  \n",
       "4385           0.0         0.0         0.0         0.0         0.0         0.0  \n",
       "\n",
       "[5 rows x 66572 columns]"
      ]
     },
     "execution_count": 699,
     "metadata": {},
     "output_type": "execute_result"
    }
   ],
   "source": [
    "ratings_matrix = ratings_df.pivot(index='userID', columns='ISBN', values='bookRating').fillna(0)\n",
    "userID = ratings_matrix.index\n",
    "ISBN = ratings_matrix.columns\n",
    "print(ratings_matrix.shape)\n",
    "ratings_matrix.head()"
   ]
  },
  {
   "cell_type": "code",
   "execution_count": 700,
   "metadata": {},
   "outputs": [
    {
     "data": {
      "text/plain": [
       "(449, 66572)"
      ]
     },
     "execution_count": 700,
     "metadata": {},
     "output_type": "execute_result"
    }
   ],
   "source": [
    "ratings_matrix.shape"
   ]
  },
  {
   "cell_type": "markdown",
   "metadata": {},
   "source": [
    "### Import svds from scipy.sparse.linalg and pass the ratings matrix to it with k=50"
   ]
  },
  {
   "cell_type": "markdown",
   "metadata": {},
   "source": [
    "Example: U, sigma, Vt = svds(ratings_matrix, k = 50)"
   ]
  },
  {
   "cell_type": "markdown",
   "metadata": {},
   "source": [
    "Take only the diag value from sigma and do a dot product of the same with U. \n",
    "\n",
    "Do another dot product of the result with V. \n",
    "\n",
    "Assign the final resultant matrix to another new matrix. \n",
    "\n",
    "Convert this matrix to a dataframe with columns as that of the above ratings_matrix. The ratings_matrix was calculated above using the pivot() function of the dataframe."
   ]
  },
  {
   "cell_type": "code",
   "execution_count": 701,
   "metadata": {},
   "outputs": [],
   "source": [
    "from scipy.sparse.linalg import svds, eigs"
   ]
  },
  {
   "cell_type": "code",
   "execution_count": 702,
   "metadata": {},
   "outputs": [],
   "source": [
    "U, sigma, Vt = svds(ratings_matrix, k = 50)"
   ]
  },
  {
   "cell_type": "code",
   "execution_count": 703,
   "metadata": {},
   "outputs": [],
   "source": [
    "sigma = np.diag(sigma)"
   ]
  },
  {
   "cell_type": "code",
   "execution_count": 704,
   "metadata": {},
   "outputs": [],
   "source": [
    "all_user_predicted_ratings = np.dot(np.dot(U, sigma), Vt)"
   ]
  },
  {
   "cell_type": "code",
   "execution_count": 705,
   "metadata": {},
   "outputs": [
    {
     "data": {
      "text/plain": [
       "array([[ 2.53413396e-02, -2.14623005e-03, -1.43082004e-03, ...,\n",
       "         1.19754797e-04, -1.69335636e-03,  6.75032653e-02],\n",
       "       [-1.00123158e-02, -3.66944542e-03, -2.44629695e-03, ...,\n",
       "        -2.41938710e-04,  2.91532927e-05, -1.30588632e-02],\n",
       "       [-1.50543571e-02, -1.54565959e-02, -1.03043973e-02, ...,\n",
       "        -3.03637070e-04,  9.00887045e-03, -5.76922555e-02],\n",
       "       ...,\n",
       "       [ 3.81433419e-03, -1.11407816e-02, -7.42718773e-03, ...,\n",
       "         1.74016504e-03,  8.52624532e-03,  1.26062064e-01],\n",
       "       [ 7.80204879e-02, -2.44385752e-02, -1.62923834e-02, ...,\n",
       "         3.02176041e-04,  1.01777285e-02,  3.59761492e-02],\n",
       "       [ 8.05621362e-03,  1.16247449e-02,  7.74982991e-03, ...,\n",
       "         8.58215920e-05, -3.24030447e-04,  7.47563413e-03]])"
      ]
     },
     "execution_count": 705,
     "metadata": {},
     "output_type": "execute_result"
    }
   ],
   "source": [
    "all_user_predicted_ratings"
   ]
  },
  {
   "cell_type": "code",
   "execution_count": 706,
   "metadata": {},
   "outputs": [],
   "source": [
    "preds_df = pd.DataFrame(all_user_predicted_ratings, columns = ratings_matrix.columns, index = ratings_matrix.index)"
   ]
  },
  {
   "cell_type": "code",
   "execution_count": 707,
   "metadata": {},
   "outputs": [
    {
     "data": {
      "text/html": [
       "<div>\n",
       "<style scoped>\n",
       "    .dataframe tbody tr th:only-of-type {\n",
       "        vertical-align: middle;\n",
       "    }\n",
       "\n",
       "    .dataframe tbody tr th {\n",
       "        vertical-align: top;\n",
       "    }\n",
       "\n",
       "    .dataframe thead th {\n",
       "        text-align: right;\n",
       "    }\n",
       "</style>\n",
       "<table border=\"1\" class=\"dataframe\">\n",
       "  <thead>\n",
       "    <tr style=\"text-align: right;\">\n",
       "      <th>ISBN</th>\n",
       "      <th>0000913154</th>\n",
       "      <th>0001046438</th>\n",
       "      <th>000104687X</th>\n",
       "      <th>0001047213</th>\n",
       "      <th>0001047973</th>\n",
       "      <th>000104799X</th>\n",
       "      <th>0001048082</th>\n",
       "      <th>0001053736</th>\n",
       "      <th>0001053744</th>\n",
       "      <th>0001055607</th>\n",
       "      <th>...</th>\n",
       "      <th>B000092Q0A</th>\n",
       "      <th>B00009EF82</th>\n",
       "      <th>B00009NDAN</th>\n",
       "      <th>B0000DYXID</th>\n",
       "      <th>B0000T6KHI</th>\n",
       "      <th>B0000VZEJQ</th>\n",
       "      <th>B0000X8HIE</th>\n",
       "      <th>B00013AX9E</th>\n",
       "      <th>B0001I1KOG</th>\n",
       "      <th>B000234N3A</th>\n",
       "    </tr>\n",
       "    <tr>\n",
       "      <th>userID</th>\n",
       "      <th></th>\n",
       "      <th></th>\n",
       "      <th></th>\n",
       "      <th></th>\n",
       "      <th></th>\n",
       "      <th></th>\n",
       "      <th></th>\n",
       "      <th></th>\n",
       "      <th></th>\n",
       "      <th></th>\n",
       "      <th></th>\n",
       "      <th></th>\n",
       "      <th></th>\n",
       "      <th></th>\n",
       "      <th></th>\n",
       "      <th></th>\n",
       "      <th></th>\n",
       "      <th></th>\n",
       "      <th></th>\n",
       "      <th></th>\n",
       "      <th></th>\n",
       "    </tr>\n",
       "  </thead>\n",
       "  <tbody>\n",
       "    <tr>\n",
       "      <th>2033</th>\n",
       "      <td>0.025341</td>\n",
       "      <td>-0.002146</td>\n",
       "      <td>-0.001431</td>\n",
       "      <td>-0.002146</td>\n",
       "      <td>-0.002146</td>\n",
       "      <td>0.002971</td>\n",
       "      <td>-0.003920</td>\n",
       "      <td>0.007035</td>\n",
       "      <td>0.007035</td>\n",
       "      <td>0.012316</td>\n",
       "      <td>...</td>\n",
       "      <td>0.000180</td>\n",
       "      <td>0.000226</td>\n",
       "      <td>0.042081</td>\n",
       "      <td>-0.016804</td>\n",
       "      <td>-0.080028</td>\n",
       "      <td>0.004746</td>\n",
       "      <td>0.028314</td>\n",
       "      <td>0.000120</td>\n",
       "      <td>-0.001693</td>\n",
       "      <td>0.067503</td>\n",
       "    </tr>\n",
       "    <tr>\n",
       "      <th>2110</th>\n",
       "      <td>-0.010012</td>\n",
       "      <td>-0.003669</td>\n",
       "      <td>-0.002446</td>\n",
       "      <td>-0.003669</td>\n",
       "      <td>-0.003669</td>\n",
       "      <td>0.001075</td>\n",
       "      <td>0.001440</td>\n",
       "      <td>-0.003500</td>\n",
       "      <td>-0.003500</td>\n",
       "      <td>0.001612</td>\n",
       "      <td>...</td>\n",
       "      <td>-0.000363</td>\n",
       "      <td>0.000403</td>\n",
       "      <td>0.008142</td>\n",
       "      <td>0.001104</td>\n",
       "      <td>-0.029224</td>\n",
       "      <td>0.000999</td>\n",
       "      <td>0.002363</td>\n",
       "      <td>-0.000242</td>\n",
       "      <td>0.000029</td>\n",
       "      <td>-0.013059</td>\n",
       "    </tr>\n",
       "    <tr>\n",
       "      <th>2276</th>\n",
       "      <td>-0.015054</td>\n",
       "      <td>-0.015457</td>\n",
       "      <td>-0.010304</td>\n",
       "      <td>-0.015457</td>\n",
       "      <td>-0.015457</td>\n",
       "      <td>0.007281</td>\n",
       "      <td>-0.014033</td>\n",
       "      <td>0.011941</td>\n",
       "      <td>0.011941</td>\n",
       "      <td>0.011796</td>\n",
       "      <td>...</td>\n",
       "      <td>-0.000455</td>\n",
       "      <td>0.001907</td>\n",
       "      <td>0.047982</td>\n",
       "      <td>0.005737</td>\n",
       "      <td>0.117859</td>\n",
       "      <td>0.006945</td>\n",
       "      <td>0.003119</td>\n",
       "      <td>-0.000304</td>\n",
       "      <td>0.009009</td>\n",
       "      <td>-0.057692</td>\n",
       "    </tr>\n",
       "    <tr>\n",
       "      <th>4017</th>\n",
       "      <td>-0.021499</td>\n",
       "      <td>0.035602</td>\n",
       "      <td>0.023735</td>\n",
       "      <td>0.035602</td>\n",
       "      <td>0.035602</td>\n",
       "      <td>0.030307</td>\n",
       "      <td>0.024215</td>\n",
       "      <td>-0.001053</td>\n",
       "      <td>-0.001053</td>\n",
       "      <td>0.067579</td>\n",
       "      <td>...</td>\n",
       "      <td>0.002971</td>\n",
       "      <td>0.009912</td>\n",
       "      <td>0.086248</td>\n",
       "      <td>-0.008818</td>\n",
       "      <td>0.016154</td>\n",
       "      <td>0.028848</td>\n",
       "      <td>-0.000125</td>\n",
       "      <td>0.001981</td>\n",
       "      <td>0.031201</td>\n",
       "      <td>-0.046664</td>\n",
       "    </tr>\n",
       "    <tr>\n",
       "      <th>4385</th>\n",
       "      <td>0.002077</td>\n",
       "      <td>-0.007965</td>\n",
       "      <td>-0.005310</td>\n",
       "      <td>-0.007965</td>\n",
       "      <td>-0.007965</td>\n",
       "      <td>0.002947</td>\n",
       "      <td>0.003057</td>\n",
       "      <td>0.000231</td>\n",
       "      <td>0.000231</td>\n",
       "      <td>0.006080</td>\n",
       "      <td>...</td>\n",
       "      <td>0.002120</td>\n",
       "      <td>0.001597</td>\n",
       "      <td>-0.012181</td>\n",
       "      <td>0.009420</td>\n",
       "      <td>0.673459</td>\n",
       "      <td>0.002591</td>\n",
       "      <td>-0.008229</td>\n",
       "      <td>0.001413</td>\n",
       "      <td>0.004918</td>\n",
       "      <td>0.047773</td>\n",
       "    </tr>\n",
       "  </tbody>\n",
       "</table>\n",
       "<p>5 rows × 66572 columns</p>\n",
       "</div>"
      ],
      "text/plain": [
       "ISBN    0000913154  0001046438  000104687X  0001047213  0001047973  \\\n",
       "userID                                                               \n",
       "2033      0.025341   -0.002146   -0.001431   -0.002146   -0.002146   \n",
       "2110     -0.010012   -0.003669   -0.002446   -0.003669   -0.003669   \n",
       "2276     -0.015054   -0.015457   -0.010304   -0.015457   -0.015457   \n",
       "4017     -0.021499    0.035602    0.023735    0.035602    0.035602   \n",
       "4385      0.002077   -0.007965   -0.005310   -0.007965   -0.007965   \n",
       "\n",
       "ISBN    000104799X  0001048082  0001053736  0001053744  0001055607  \\\n",
       "userID                                                               \n",
       "2033      0.002971   -0.003920    0.007035    0.007035    0.012316   \n",
       "2110      0.001075    0.001440   -0.003500   -0.003500    0.001612   \n",
       "2276      0.007281   -0.014033    0.011941    0.011941    0.011796   \n",
       "4017      0.030307    0.024215   -0.001053   -0.001053    0.067579   \n",
       "4385      0.002947    0.003057    0.000231    0.000231    0.006080   \n",
       "\n",
       "ISBN       ...      B000092Q0A  B00009EF82  B00009NDAN  B0000DYXID  \\\n",
       "userID     ...                                                       \n",
       "2033       ...        0.000180    0.000226    0.042081   -0.016804   \n",
       "2110       ...       -0.000363    0.000403    0.008142    0.001104   \n",
       "2276       ...       -0.000455    0.001907    0.047982    0.005737   \n",
       "4017       ...        0.002971    0.009912    0.086248   -0.008818   \n",
       "4385       ...        0.002120    0.001597   -0.012181    0.009420   \n",
       "\n",
       "ISBN    B0000T6KHI  B0000VZEJQ  B0000X8HIE  B00013AX9E  B0001I1KOG  B000234N3A  \n",
       "userID                                                                          \n",
       "2033     -0.080028    0.004746    0.028314    0.000120   -0.001693    0.067503  \n",
       "2110     -0.029224    0.000999    0.002363   -0.000242    0.000029   -0.013059  \n",
       "2276      0.117859    0.006945    0.003119   -0.000304    0.009009   -0.057692  \n",
       "4017      0.016154    0.028848   -0.000125    0.001981    0.031201   -0.046664  \n",
       "4385      0.673459    0.002591   -0.008229    0.001413    0.004918    0.047773  \n",
       "\n",
       "[5 rows x 66572 columns]"
      ]
     },
     "execution_count": 707,
     "metadata": {},
     "output_type": "execute_result"
    }
   ],
   "source": [
    "preds_df.head()"
   ]
  },
  {
   "cell_type": "markdown",
   "metadata": {},
   "source": [
    "### Take a particular user id - user id=2"
   ]
  },
  {
   "cell_type": "code",
   "execution_count": 708,
   "metadata": {},
   "outputs": [
    {
     "name": "stdout",
     "output_type": "stream",
     "text": [
      "2110\n"
     ]
    }
   ],
   "source": [
    "#Print the user id associated with the second record in the dataframe\n",
    "Recordno = 1\n",
    "userid = preds_df.index[Recordno]\n",
    "print(userid)"
   ]
  },
  {
   "cell_type": "code",
   "execution_count": 709,
   "metadata": {},
   "outputs": [],
   "source": [
    "#sort the predictions of the user chosen into descending order from the predicted df above. \n",
    "#You will get a series. Hint: use iloc[user_id]\n",
    "sorted_user_predictions = pd.DataFrame(preds_df.loc[userid].sort_values(ascending=False))"
   ]
  },
  {
   "cell_type": "code",
   "execution_count": 710,
   "metadata": {},
   "outputs": [
    {
     "data": {
      "text/html": [
       "<div>\n",
       "<style scoped>\n",
       "    .dataframe tbody tr th:only-of-type {\n",
       "        vertical-align: middle;\n",
       "    }\n",
       "\n",
       "    .dataframe tbody tr th {\n",
       "        vertical-align: top;\n",
       "    }\n",
       "\n",
       "    .dataframe thead th {\n",
       "        text-align: right;\n",
       "    }\n",
       "</style>\n",
       "<table border=\"1\" class=\"dataframe\">\n",
       "  <thead>\n",
       "    <tr style=\"text-align: right;\">\n",
       "      <th></th>\n",
       "      <th>ISBN</th>\n",
       "      <th>2110</th>\n",
       "    </tr>\n",
       "  </thead>\n",
       "  <tbody>\n",
       "    <tr>\n",
       "      <th>0</th>\n",
       "      <td>059035342X</td>\n",
       "      <td>0.682444</td>\n",
       "    </tr>\n",
       "    <tr>\n",
       "      <th>1</th>\n",
       "      <td>0345370775</td>\n",
       "      <td>0.368946</td>\n",
       "    </tr>\n",
       "    <tr>\n",
       "      <th>2</th>\n",
       "      <td>0345384911</td>\n",
       "      <td>0.333624</td>\n",
       "    </tr>\n",
       "    <tr>\n",
       "      <th>3</th>\n",
       "      <td>043935806X</td>\n",
       "      <td>0.333209</td>\n",
       "    </tr>\n",
       "    <tr>\n",
       "      <th>4</th>\n",
       "      <td>044021145X</td>\n",
       "      <td>0.329336</td>\n",
       "    </tr>\n",
       "  </tbody>\n",
       "</table>\n",
       "</div>"
      ],
      "text/plain": [
       "         ISBN      2110\n",
       "0  059035342X  0.682444\n",
       "1  0345370775  0.368946\n",
       "2  0345384911  0.333624\n",
       "3  043935806X  0.333209\n",
       "4  044021145X  0.329336"
      ]
     },
     "execution_count": 710,
     "metadata": {},
     "output_type": "execute_result"
    }
   ],
   "source": [
    "sorted_user_predictions.reset_index(inplace = True)\n",
    "sorted_user_predictions.head()"
   ]
  },
  {
   "cell_type": "code",
   "execution_count": 711,
   "metadata": {},
   "outputs": [],
   "source": [
    "sorted_user_predictions.columns = sorted_user_predictions.columns.map(str)"
   ]
  },
  {
   "cell_type": "code",
   "execution_count": 712,
   "metadata": {},
   "outputs": [
    {
     "name": "stdout",
     "output_type": "stream",
     "text": [
      "<class 'pandas.core.frame.DataFrame'>\n",
      "RangeIndex: 66572 entries, 0 to 66571\n",
      "Data columns (total 2 columns):\n",
      "ISBN    66572 non-null object\n",
      "2110    66572 non-null float64\n",
      "dtypes: float64(1), object(1)\n",
      "memory usage: 1.0+ MB\n"
     ]
    }
   ],
   "source": [
    "sorted_user_predictions.info()"
   ]
  },
  {
   "cell_type": "code",
   "execution_count": 713,
   "metadata": {},
   "outputs": [
    {
     "data": {
      "text/plain": [
       "array([ 0.68244361,  0.36894571,  0.3336239 , ..., -0.06098071,\n",
       "       -0.06134816, -0.06718795])"
      ]
     },
     "execution_count": 713,
     "metadata": {},
     "output_type": "execute_result"
    }
   ],
   "source": [
    "sorted_user_predictions['2110'].unique()"
   ]
  },
  {
   "cell_type": "markdown",
   "metadata": {},
   "source": [
    "### Get all books that this particular user has interacted with."
   ]
  },
  {
   "cell_type": "markdown",
   "metadata": {},
   "source": [
    "Hint: filter the ratings df associated with ratings 1 to 9 for this user id alone. Filter using the userID column and pass the userID obtained above from the ratings matrix.\n",
    "\n",
    "Once the user_data is obtained, you will get a dataframe with userID = user ID value and ISBN and Ratings."
   ]
  },
  {
   "cell_type": "code",
   "execution_count": 714,
   "metadata": {},
   "outputs": [],
   "source": [
    "user_data = ratings_df[ratings_df.userID == (userid)]"
   ]
  },
  {
   "cell_type": "code",
   "execution_count": 715,
   "metadata": {},
   "outputs": [
    {
     "name": "stdout",
     "output_type": "stream",
     "text": [
      "(103, 3)\n"
     ]
    }
   ],
   "source": [
    "print(user_data.shape)"
   ]
  },
  {
   "cell_type": "code",
   "execution_count": 716,
   "metadata": {},
   "outputs": [
    {
     "name": "stdout",
     "output_type": "stream",
     "text": [
      "Index(['userID', 'ISBN', 'bookRating'], dtype='object')\n"
     ]
    }
   ],
   "source": [
    "print(user_data.columns)"
   ]
  },
  {
   "cell_type": "code",
   "execution_count": 717,
   "metadata": {},
   "outputs": [
    {
     "data": {
      "text/plain": [
       "(103, 3)"
      ]
     },
     "execution_count": 717,
     "metadata": {},
     "output_type": "execute_result"
    }
   ],
   "source": [
    "user_data.shape"
   ]
  },
  {
   "cell_type": "code",
   "execution_count": 718,
   "metadata": {},
   "outputs": [],
   "source": [
    "user_predicted = sorted_user_predictions[sorted_user_predictions['ISBN'].isin(user_data[\"ISBN\"])]"
   ]
  },
  {
   "cell_type": "code",
   "execution_count": 719,
   "metadata": {},
   "outputs": [],
   "source": [
    "user_predicted = pd.merge(user_data, sorted_user_predictions, on = 'ISBN')"
   ]
  },
  {
   "cell_type": "code",
   "execution_count": 720,
   "metadata": {},
   "outputs": [],
   "source": [
    "user_predicted = user_predicted.rename(columns={'2110': 'Predictedrating'})"
   ]
  },
  {
   "cell_type": "code",
   "execution_count": 721,
   "metadata": {},
   "outputs": [
    {
     "data": {
      "text/html": [
       "<div>\n",
       "<style scoped>\n",
       "    .dataframe tbody tr th:only-of-type {\n",
       "        vertical-align: middle;\n",
       "    }\n",
       "\n",
       "    .dataframe tbody tr th {\n",
       "        vertical-align: top;\n",
       "    }\n",
       "\n",
       "    .dataframe thead th {\n",
       "        text-align: right;\n",
       "    }\n",
       "</style>\n",
       "<table border=\"1\" class=\"dataframe\">\n",
       "  <thead>\n",
       "    <tr style=\"text-align: right;\">\n",
       "      <th></th>\n",
       "      <th>userID</th>\n",
       "      <th>ISBN</th>\n",
       "      <th>bookRating</th>\n",
       "      <th>Predictedrating</th>\n",
       "    </tr>\n",
       "  </thead>\n",
       "  <tbody>\n",
       "    <tr>\n",
       "      <th>0</th>\n",
       "      <td>2110</td>\n",
       "      <td>0060987529</td>\n",
       "      <td>7</td>\n",
       "      <td>0.058987</td>\n",
       "    </tr>\n",
       "    <tr>\n",
       "      <th>1</th>\n",
       "      <td>2110</td>\n",
       "      <td>0064472779</td>\n",
       "      <td>8</td>\n",
       "      <td>0.009379</td>\n",
       "    </tr>\n",
       "    <tr>\n",
       "      <th>2</th>\n",
       "      <td>2110</td>\n",
       "      <td>0140022651</td>\n",
       "      <td>10</td>\n",
       "      <td>0.007412</td>\n",
       "    </tr>\n",
       "    <tr>\n",
       "      <th>3</th>\n",
       "      <td>2110</td>\n",
       "      <td>0142302163</td>\n",
       "      <td>8</td>\n",
       "      <td>0.005929</td>\n",
       "    </tr>\n",
       "    <tr>\n",
       "      <th>4</th>\n",
       "      <td>2110</td>\n",
       "      <td>0151008116</td>\n",
       "      <td>5</td>\n",
       "      <td>0.021833</td>\n",
       "    </tr>\n",
       "  </tbody>\n",
       "</table>\n",
       "</div>"
      ],
      "text/plain": [
       "   userID        ISBN  bookRating  Predictedrating\n",
       "0    2110  0060987529           7         0.058987\n",
       "1    2110  0064472779           8         0.009379\n",
       "2    2110  0140022651          10         0.007412\n",
       "3    2110  0142302163           8         0.005929\n",
       "4    2110  0151008116           5         0.021833"
      ]
     },
     "execution_count": 721,
     "metadata": {},
     "output_type": "execute_result"
    }
   ],
   "source": [
    "user_predicted.head()"
   ]
  },
  {
   "cell_type": "markdown",
   "metadata": {},
   "source": [
    "### Get the book data for this particular user. For this you need to filter using the ISBN column present in the above userdata dataframe"
   ]
  },
  {
   "cell_type": "code",
   "execution_count": 722,
   "metadata": {},
   "outputs": [],
   "source": [
    "book_data = books[books[\"ISBN\"].isin(user_predicted[\"ISBN\"])]"
   ]
  },
  {
   "cell_type": "code",
   "execution_count": 723,
   "metadata": {},
   "outputs": [
    {
     "data": {
      "text/plain": [
       "(103, 5)"
      ]
     },
     "execution_count": 723,
     "metadata": {},
     "output_type": "execute_result"
    }
   ],
   "source": [
    "book_data.shape"
   ]
  },
  {
   "cell_type": "code",
   "execution_count": 724,
   "metadata": {},
   "outputs": [
    {
     "data": {
      "text/html": [
       "<div>\n",
       "<style scoped>\n",
       "    .dataframe tbody tr th:only-of-type {\n",
       "        vertical-align: middle;\n",
       "    }\n",
       "\n",
       "    .dataframe tbody tr th {\n",
       "        vertical-align: top;\n",
       "    }\n",
       "\n",
       "    .dataframe thead th {\n",
       "        text-align: right;\n",
       "    }\n",
       "</style>\n",
       "<table border=\"1\" class=\"dataframe\">\n",
       "  <thead>\n",
       "    <tr style=\"text-align: right;\">\n",
       "      <th></th>\n",
       "      <th>ISBN</th>\n",
       "      <th>bookTitle</th>\n",
       "      <th>bookAuthor</th>\n",
       "      <th>yearOfPublication</th>\n",
       "      <th>publisher</th>\n",
       "    </tr>\n",
       "  </thead>\n",
       "  <tbody>\n",
       "    <tr>\n",
       "      <th>246</th>\n",
       "      <td>0151008116</td>\n",
       "      <td>Life of Pi</td>\n",
       "      <td>Yann Martel</td>\n",
       "      <td>2002</td>\n",
       "      <td>Harcourt</td>\n",
       "    </tr>\n",
       "    <tr>\n",
       "      <th>904</th>\n",
       "      <td>015216250X</td>\n",
       "      <td>So You Want to Be a Wizard: The First Book in ...</td>\n",
       "      <td>Diane Duane</td>\n",
       "      <td>2001</td>\n",
       "      <td>Magic Carpet Books</td>\n",
       "    </tr>\n",
       "    <tr>\n",
       "      <th>1000</th>\n",
       "      <td>0064472779</td>\n",
       "      <td>All-American Girl</td>\n",
       "      <td>Meg Cabot</td>\n",
       "      <td>2003</td>\n",
       "      <td>HarperTrophy</td>\n",
       "    </tr>\n",
       "    <tr>\n",
       "      <th>1302</th>\n",
       "      <td>0345307674</td>\n",
       "      <td>Return of the Jedi (Star Wars)</td>\n",
       "      <td>James Kahn</td>\n",
       "      <td>1983</td>\n",
       "      <td>Del Rey Books</td>\n",
       "    </tr>\n",
       "    <tr>\n",
       "      <th>1472</th>\n",
       "      <td>0671527215</td>\n",
       "      <td>Hitchhikers's Guide to the Galaxy</td>\n",
       "      <td>Douglas Adams</td>\n",
       "      <td>1984</td>\n",
       "      <td>Pocket</td>\n",
       "    </tr>\n",
       "  </tbody>\n",
       "</table>\n",
       "</div>"
      ],
      "text/plain": [
       "            ISBN                                          bookTitle  \\\n",
       "246   0151008116                                         Life of Pi   \n",
       "904   015216250X  So You Want to Be a Wizard: The First Book in ...   \n",
       "1000  0064472779                                  All-American Girl   \n",
       "1302  0345307674                     Return of the Jedi (Star Wars)   \n",
       "1472  0671527215                  Hitchhikers's Guide to the Galaxy   \n",
       "\n",
       "         bookAuthor  yearOfPublication           publisher  \n",
       "246     Yann Martel               2002            Harcourt  \n",
       "904     Diane Duane               2001  Magic Carpet Books  \n",
       "1000      Meg Cabot               2003        HarperTrophy  \n",
       "1302     James Kahn               1983       Del Rey Books  \n",
       "1472  Douglas Adams               1984              Pocket  "
      ]
     },
     "execution_count": 724,
     "metadata": {},
     "output_type": "execute_result"
    }
   ],
   "source": [
    "book_data.head()"
   ]
  },
  {
   "cell_type": "code",
   "execution_count": 725,
   "metadata": {},
   "outputs": [
    {
     "name": "stdout",
     "output_type": "stream",
     "text": [
      "<class 'pandas.core.frame.DataFrame'>\n",
      "Int64Index: 103 entries, 14448 to 14609\n",
      "Data columns (total 3 columns):\n",
      "userID        103 non-null int64\n",
      "ISBN          103 non-null object\n",
      "bookRating    103 non-null int64\n",
      "dtypes: int64(2), object(1)\n",
      "memory usage: 3.2+ KB\n"
     ]
    }
   ],
   "source": [
    "user_data.info()"
   ]
  },
  {
   "cell_type": "code",
   "execution_count": 726,
   "metadata": {},
   "outputs": [
    {
     "name": "stdout",
     "output_type": "stream",
     "text": [
      "<class 'pandas.core.frame.DataFrame'>\n",
      "Int64Index: 103 entries, 246 to 16301\n",
      "Data columns (total 5 columns):\n",
      "ISBN                 103 non-null object\n",
      "bookTitle            103 non-null object\n",
      "bookAuthor           103 non-null object\n",
      "yearOfPublication    103 non-null int32\n",
      "publisher            103 non-null object\n",
      "dtypes: int32(1), object(4)\n",
      "memory usage: 4.4+ KB\n"
     ]
    }
   ],
   "source": [
    "book_data.info()"
   ]
  },
  {
   "cell_type": "markdown",
   "metadata": {},
   "source": [
    "### Merge both the book data and user data as a single dataframe. Hint: Use merge function. \n",
    "#### Check how many books the user has rated. Hint: use shape"
   ]
  },
  {
   "cell_type": "code",
   "execution_count": 727,
   "metadata": {},
   "outputs": [],
   "source": [
    "recommendations = pd.merge(user_predicted, book_data, on = 'ISBN')"
   ]
  },
  {
   "cell_type": "code",
   "execution_count": 728,
   "metadata": {},
   "outputs": [
    {
     "name": "stdout",
     "output_type": "stream",
     "text": [
      "(103, 8)\n"
     ]
    },
    {
     "data": {
      "text/html": [
       "<div>\n",
       "<style scoped>\n",
       "    .dataframe tbody tr th:only-of-type {\n",
       "        vertical-align: middle;\n",
       "    }\n",
       "\n",
       "    .dataframe tbody tr th {\n",
       "        vertical-align: top;\n",
       "    }\n",
       "\n",
       "    .dataframe thead th {\n",
       "        text-align: right;\n",
       "    }\n",
       "</style>\n",
       "<table border=\"1\" class=\"dataframe\">\n",
       "  <thead>\n",
       "    <tr style=\"text-align: right;\">\n",
       "      <th></th>\n",
       "      <th>userID</th>\n",
       "      <th>ISBN</th>\n",
       "      <th>bookRating</th>\n",
       "      <th>Predictedrating</th>\n",
       "      <th>bookTitle</th>\n",
       "      <th>bookAuthor</th>\n",
       "      <th>yearOfPublication</th>\n",
       "      <th>publisher</th>\n",
       "    </tr>\n",
       "  </thead>\n",
       "  <tbody>\n",
       "    <tr>\n",
       "      <th>0</th>\n",
       "      <td>2110</td>\n",
       "      <td>0060987529</td>\n",
       "      <td>7</td>\n",
       "      <td>0.058987</td>\n",
       "      <td>Confessions of an Ugly Stepsister : A Novel</td>\n",
       "      <td>Gregory Maguire</td>\n",
       "      <td>2000</td>\n",
       "      <td>Regan Books</td>\n",
       "    </tr>\n",
       "    <tr>\n",
       "      <th>1</th>\n",
       "      <td>2110</td>\n",
       "      <td>0064472779</td>\n",
       "      <td>8</td>\n",
       "      <td>0.009379</td>\n",
       "      <td>All-American Girl</td>\n",
       "      <td>Meg Cabot</td>\n",
       "      <td>2003</td>\n",
       "      <td>HarperTrophy</td>\n",
       "    </tr>\n",
       "    <tr>\n",
       "      <th>2</th>\n",
       "      <td>2110</td>\n",
       "      <td>0140022651</td>\n",
       "      <td>10</td>\n",
       "      <td>0.007412</td>\n",
       "      <td>Journey to the Center of the Earth</td>\n",
       "      <td>Jules Verne</td>\n",
       "      <td>1965</td>\n",
       "      <td>Penguin Books</td>\n",
       "    </tr>\n",
       "    <tr>\n",
       "      <th>3</th>\n",
       "      <td>2110</td>\n",
       "      <td>0142302163</td>\n",
       "      <td>8</td>\n",
       "      <td>0.005929</td>\n",
       "      <td>The Ghost Sitter</td>\n",
       "      <td>Peni R. Griffin</td>\n",
       "      <td>2002</td>\n",
       "      <td>Puffin Books</td>\n",
       "    </tr>\n",
       "    <tr>\n",
       "      <th>4</th>\n",
       "      <td>2110</td>\n",
       "      <td>0151008116</td>\n",
       "      <td>5</td>\n",
       "      <td>0.021833</td>\n",
       "      <td>Life of Pi</td>\n",
       "      <td>Yann Martel</td>\n",
       "      <td>2002</td>\n",
       "      <td>Harcourt</td>\n",
       "    </tr>\n",
       "  </tbody>\n",
       "</table>\n",
       "</div>"
      ],
      "text/plain": [
       "   userID        ISBN  bookRating  Predictedrating  \\\n",
       "0    2110  0060987529           7         0.058987   \n",
       "1    2110  0064472779           8         0.009379   \n",
       "2    2110  0140022651          10         0.007412   \n",
       "3    2110  0142302163           8         0.005929   \n",
       "4    2110  0151008116           5         0.021833   \n",
       "\n",
       "                                     bookTitle       bookAuthor  \\\n",
       "0  Confessions of an Ugly Stepsister : A Novel  Gregory Maguire   \n",
       "1                            All-American Girl        Meg Cabot   \n",
       "2           Journey to the Center of the Earth      Jules Verne   \n",
       "3                             The Ghost Sitter  Peni R. Griffin   \n",
       "4                                   Life of Pi      Yann Martel   \n",
       "\n",
       "   yearOfPublication      publisher  \n",
       "0               2000    Regan Books  \n",
       "1               2003   HarperTrophy  \n",
       "2               1965  Penguin Books  \n",
       "3               2002   Puffin Books  \n",
       "4               2002       Harcourt  "
      ]
     },
     "execution_count": 728,
     "metadata": {},
     "output_type": "execute_result"
    }
   ],
   "source": [
    "print(recommendations.shape)\n",
    "recommendations.head()"
   ]
  },
  {
   "cell_type": "markdown",
   "metadata": {},
   "source": [
    "### Get top 10 recommendations for above given userID\n",
    "\n",
    "#### Use Predictions column and sort the same as descending order"
   ]
  },
  {
   "cell_type": "code",
   "execution_count": 729,
   "metadata": {},
   "outputs": [
    {
     "data": {
      "text/html": [
       "<div>\n",
       "<style scoped>\n",
       "    .dataframe tbody tr th:only-of-type {\n",
       "        vertical-align: middle;\n",
       "    }\n",
       "\n",
       "    .dataframe tbody tr th {\n",
       "        vertical-align: top;\n",
       "    }\n",
       "\n",
       "    .dataframe thead th {\n",
       "        text-align: right;\n",
       "    }\n",
       "</style>\n",
       "<table border=\"1\" class=\"dataframe\">\n",
       "  <thead>\n",
       "    <tr style=\"text-align: right;\">\n",
       "      <th></th>\n",
       "      <th>userID</th>\n",
       "      <th>ISBN</th>\n",
       "      <th>bookRating</th>\n",
       "      <th>Predictedrating</th>\n",
       "      <th>bookTitle</th>\n",
       "      <th>bookAuthor</th>\n",
       "      <th>yearOfPublication</th>\n",
       "      <th>publisher</th>\n",
       "    </tr>\n",
       "  </thead>\n",
       "  <tbody>\n",
       "    <tr>\n",
       "      <th>2</th>\n",
       "      <td>2110</td>\n",
       "      <td>0140022651</td>\n",
       "      <td>10</td>\n",
       "      <td>0.007412</td>\n",
       "      <td>Journey to the Center of the Earth</td>\n",
       "      <td>Jules Verne</td>\n",
       "      <td>1965</td>\n",
       "      <td>Penguin Books</td>\n",
       "    </tr>\n",
       "    <tr>\n",
       "      <th>6</th>\n",
       "      <td>2110</td>\n",
       "      <td>0345260627</td>\n",
       "      <td>10</td>\n",
       "      <td>0.007412</td>\n",
       "      <td>Splinter of the Mind's Eye</td>\n",
       "      <td>Alan Dean Foster</td>\n",
       "      <td>1978</td>\n",
       "      <td>Ballantine Books</td>\n",
       "    </tr>\n",
       "    <tr>\n",
       "      <th>7</th>\n",
       "      <td>2110</td>\n",
       "      <td>0345283554</td>\n",
       "      <td>10</td>\n",
       "      <td>0.007412</td>\n",
       "      <td>Han Solo at Stars' End</td>\n",
       "      <td>Daley</td>\n",
       "      <td>1979</td>\n",
       "      <td>Not Avail</td>\n",
       "    </tr>\n",
       "    <tr>\n",
       "      <th>8</th>\n",
       "      <td>2110</td>\n",
       "      <td>0345283929</td>\n",
       "      <td>10</td>\n",
       "      <td>0.126359</td>\n",
       "      <td>Empire Strikes Back Wars</td>\n",
       "      <td>Donald F Glut</td>\n",
       "      <td>1980</td>\n",
       "      <td>Ballantine Books</td>\n",
       "    </tr>\n",
       "    <tr>\n",
       "      <th>9</th>\n",
       "      <td>2110</td>\n",
       "      <td>034528710X</td>\n",
       "      <td>10</td>\n",
       "      <td>0.007412</td>\n",
       "      <td>Han Solo and the Lost Legacy</td>\n",
       "      <td>Brian Daley</td>\n",
       "      <td>1980</td>\n",
       "      <td>Del Rey Books</td>\n",
       "    </tr>\n",
       "    <tr>\n",
       "      <th>10</th>\n",
       "      <td>2110</td>\n",
       "      <td>0345307674</td>\n",
       "      <td>10</td>\n",
       "      <td>0.114533</td>\n",
       "      <td>Return of the Jedi (Star Wars)</td>\n",
       "      <td>James Kahn</td>\n",
       "      <td>1983</td>\n",
       "      <td>Del Rey Books</td>\n",
       "    </tr>\n",
       "    <tr>\n",
       "      <th>11</th>\n",
       "      <td>2110</td>\n",
       "      <td>0345314255</td>\n",
       "      <td>10</td>\n",
       "      <td>0.177760</td>\n",
       "      <td>Sword of Shannara</td>\n",
       "      <td>Terry Brooks</td>\n",
       "      <td>1995</td>\n",
       "      <td>Del Rey Books</td>\n",
       "    </tr>\n",
       "    <tr>\n",
       "      <th>12</th>\n",
       "      <td>2110</td>\n",
       "      <td>0345317580</td>\n",
       "      <td>10</td>\n",
       "      <td>0.219552</td>\n",
       "      <td>Magic Kingdom for Sale - Sold! (Magic Kingdom ...</td>\n",
       "      <td>Terry Brooks</td>\n",
       "      <td>1990</td>\n",
       "      <td>Del Rey Books</td>\n",
       "    </tr>\n",
       "    <tr>\n",
       "      <th>13</th>\n",
       "      <td>2110</td>\n",
       "      <td>0345335287</td>\n",
       "      <td>10</td>\n",
       "      <td>0.223613</td>\n",
       "      <td>The Black Unicorn (Magic Kingdom of Landover N...</td>\n",
       "      <td>Terry Brooks</td>\n",
       "      <td>1990</td>\n",
       "      <td>Del Rey Books</td>\n",
       "    </tr>\n",
       "    <tr>\n",
       "      <th>14</th>\n",
       "      <td>2110</td>\n",
       "      <td>0345362276</td>\n",
       "      <td>10</td>\n",
       "      <td>0.114498</td>\n",
       "      <td>Wizard at Large (Rookies Series)</td>\n",
       "      <td>Terry Brooks</td>\n",
       "      <td>1989</td>\n",
       "      <td>Del Rey Books</td>\n",
       "    </tr>\n",
       "  </tbody>\n",
       "</table>\n",
       "</div>"
      ],
      "text/plain": [
       "    userID        ISBN  bookRating  Predictedrating  \\\n",
       "2     2110  0140022651          10         0.007412   \n",
       "6     2110  0345260627          10         0.007412   \n",
       "7     2110  0345283554          10         0.007412   \n",
       "8     2110  0345283929          10         0.126359   \n",
       "9     2110  034528710X          10         0.007412   \n",
       "10    2110  0345307674          10         0.114533   \n",
       "11    2110  0345314255          10         0.177760   \n",
       "12    2110  0345317580          10         0.219552   \n",
       "13    2110  0345335287          10         0.223613   \n",
       "14    2110  0345362276          10         0.114498   \n",
       "\n",
       "                                            bookTitle        bookAuthor  \\\n",
       "2                  Journey to the Center of the Earth       Jules Verne   \n",
       "6                          Splinter of the Mind's Eye  Alan Dean Foster   \n",
       "7                              Han Solo at Stars' End             Daley   \n",
       "8                            Empire Strikes Back Wars     Donald F Glut   \n",
       "9                        Han Solo and the Lost Legacy       Brian Daley   \n",
       "10                     Return of the Jedi (Star Wars)        James Kahn   \n",
       "11                                  Sword of Shannara      Terry Brooks   \n",
       "12  Magic Kingdom for Sale - Sold! (Magic Kingdom ...      Terry Brooks   \n",
       "13  The Black Unicorn (Magic Kingdom of Landover N...      Terry Brooks   \n",
       "14                   Wizard at Large (Rookies Series)      Terry Brooks   \n",
       "\n",
       "    yearOfPublication         publisher  \n",
       "2                1965     Penguin Books  \n",
       "6                1978  Ballantine Books  \n",
       "7                1979         Not Avail  \n",
       "8                1980  Ballantine Books  \n",
       "9                1980     Del Rey Books  \n",
       "10               1983     Del Rey Books  \n",
       "11               1995     Del Rey Books  \n",
       "12               1990     Del Rey Books  \n",
       "13               1990     Del Rey Books  \n",
       "14               1989     Del Rey Books  "
      ]
     },
     "execution_count": 729,
     "metadata": {},
     "output_type": "execute_result"
    }
   ],
   "source": [
    "# Top 10 Rows based on Actual Rating\n",
    "recommendations.nlargest(10, 'bookRating')"
   ]
  },
  {
   "cell_type": "code",
   "execution_count": 730,
   "metadata": {
    "scrolled": true
   },
   "outputs": [
    {
     "data": {
      "text/html": [
       "<div>\n",
       "<style scoped>\n",
       "    .dataframe tbody tr th:only-of-type {\n",
       "        vertical-align: middle;\n",
       "    }\n",
       "\n",
       "    .dataframe tbody tr th {\n",
       "        vertical-align: top;\n",
       "    }\n",
       "\n",
       "    .dataframe thead th {\n",
       "        text-align: right;\n",
       "    }\n",
       "</style>\n",
       "<table border=\"1\" class=\"dataframe\">\n",
       "  <thead>\n",
       "    <tr style=\"text-align: right;\">\n",
       "      <th></th>\n",
       "      <th>userID</th>\n",
       "      <th>ISBN</th>\n",
       "      <th>bookRating</th>\n",
       "      <th>Predictedrating</th>\n",
       "      <th>bookTitle</th>\n",
       "      <th>bookAuthor</th>\n",
       "      <th>yearOfPublication</th>\n",
       "      <th>publisher</th>\n",
       "    </tr>\n",
       "  </thead>\n",
       "  <tbody>\n",
       "    <tr>\n",
       "      <th>55</th>\n",
       "      <td>2110</td>\n",
       "      <td>059035342X</td>\n",
       "      <td>10</td>\n",
       "      <td>0.682444</td>\n",
       "      <td>Harry Potter and the Sorcerer's Stone (Harry P...</td>\n",
       "      <td>J. K. Rowling</td>\n",
       "      <td>1999</td>\n",
       "      <td>Arthur A. Levine Books</td>\n",
       "    </tr>\n",
       "    <tr>\n",
       "      <th>13</th>\n",
       "      <td>2110</td>\n",
       "      <td>0345335287</td>\n",
       "      <td>10</td>\n",
       "      <td>0.223613</td>\n",
       "      <td>The Black Unicorn (Magic Kingdom of Landover N...</td>\n",
       "      <td>Terry Brooks</td>\n",
       "      <td>1990</td>\n",
       "      <td>Del Rey Books</td>\n",
       "    </tr>\n",
       "    <tr>\n",
       "      <th>12</th>\n",
       "      <td>2110</td>\n",
       "      <td>0345317580</td>\n",
       "      <td>10</td>\n",
       "      <td>0.219552</td>\n",
       "      <td>Magic Kingdom for Sale - Sold! (Magic Kingdom ...</td>\n",
       "      <td>Terry Brooks</td>\n",
       "      <td>1990</td>\n",
       "      <td>Del Rey Books</td>\n",
       "    </tr>\n",
       "    <tr>\n",
       "      <th>11</th>\n",
       "      <td>2110</td>\n",
       "      <td>0345314255</td>\n",
       "      <td>10</td>\n",
       "      <td>0.177760</td>\n",
       "      <td>Sword of Shannara</td>\n",
       "      <td>Terry Brooks</td>\n",
       "      <td>1995</td>\n",
       "      <td>Del Rey Books</td>\n",
       "    </tr>\n",
       "    <tr>\n",
       "      <th>45</th>\n",
       "      <td>2110</td>\n",
       "      <td>0451137965</td>\n",
       "      <td>9</td>\n",
       "      <td>0.133481</td>\n",
       "      <td>Thinner</td>\n",
       "      <td>Stephen King</td>\n",
       "      <td>1985</td>\n",
       "      <td>New Amer Library</td>\n",
       "    </tr>\n",
       "    <tr>\n",
       "      <th>8</th>\n",
       "      <td>2110</td>\n",
       "      <td>0345283929</td>\n",
       "      <td>10</td>\n",
       "      <td>0.126359</td>\n",
       "      <td>Empire Strikes Back Wars</td>\n",
       "      <td>Donald F Glut</td>\n",
       "      <td>1980</td>\n",
       "      <td>Ballantine Books</td>\n",
       "    </tr>\n",
       "    <tr>\n",
       "      <th>10</th>\n",
       "      <td>2110</td>\n",
       "      <td>0345307674</td>\n",
       "      <td>10</td>\n",
       "      <td>0.114533</td>\n",
       "      <td>Return of the Jedi (Star Wars)</td>\n",
       "      <td>James Kahn</td>\n",
       "      <td>1983</td>\n",
       "      <td>Del Rey Books</td>\n",
       "    </tr>\n",
       "    <tr>\n",
       "      <th>14</th>\n",
       "      <td>2110</td>\n",
       "      <td>0345362276</td>\n",
       "      <td>10</td>\n",
       "      <td>0.114498</td>\n",
       "      <td>Wizard at Large (Rookies Series)</td>\n",
       "      <td>Terry Brooks</td>\n",
       "      <td>1989</td>\n",
       "      <td>Del Rey Books</td>\n",
       "    </tr>\n",
       "    <tr>\n",
       "      <th>78</th>\n",
       "      <td>2110</td>\n",
       "      <td>0671751174</td>\n",
       "      <td>10</td>\n",
       "      <td>0.103658</td>\n",
       "      <td>First Evil (Fear Street Cheerleaders 1) : Firs...</td>\n",
       "      <td>R.L. Stine</td>\n",
       "      <td>1992</td>\n",
       "      <td>Simon Pulse</td>\n",
       "    </tr>\n",
       "    <tr>\n",
       "      <th>47</th>\n",
       "      <td>2110</td>\n",
       "      <td>051512463X</td>\n",
       "      <td>8</td>\n",
       "      <td>0.070114</td>\n",
       "      <td>The Cat Who Sang for the Birds (Cat Who... (Pa...</td>\n",
       "      <td>Lilian Jackson Braun</td>\n",
       "      <td>1999</td>\n",
       "      <td>Jove Books</td>\n",
       "    </tr>\n",
       "  </tbody>\n",
       "</table>\n",
       "</div>"
      ],
      "text/plain": [
       "    userID        ISBN  bookRating  Predictedrating  \\\n",
       "55    2110  059035342X          10         0.682444   \n",
       "13    2110  0345335287          10         0.223613   \n",
       "12    2110  0345317580          10         0.219552   \n",
       "11    2110  0345314255          10         0.177760   \n",
       "45    2110  0451137965           9         0.133481   \n",
       "8     2110  0345283929          10         0.126359   \n",
       "10    2110  0345307674          10         0.114533   \n",
       "14    2110  0345362276          10         0.114498   \n",
       "78    2110  0671751174          10         0.103658   \n",
       "47    2110  051512463X           8         0.070114   \n",
       "\n",
       "                                            bookTitle            bookAuthor  \\\n",
       "55  Harry Potter and the Sorcerer's Stone (Harry P...         J. K. Rowling   \n",
       "13  The Black Unicorn (Magic Kingdom of Landover N...          Terry Brooks   \n",
       "12  Magic Kingdom for Sale - Sold! (Magic Kingdom ...          Terry Brooks   \n",
       "11                                  Sword of Shannara          Terry Brooks   \n",
       "45                                            Thinner          Stephen King   \n",
       "8                            Empire Strikes Back Wars         Donald F Glut   \n",
       "10                     Return of the Jedi (Star Wars)            James Kahn   \n",
       "14                   Wizard at Large (Rookies Series)          Terry Brooks   \n",
       "78  First Evil (Fear Street Cheerleaders 1) : Firs...            R.L. Stine   \n",
       "47  The Cat Who Sang for the Birds (Cat Who... (Pa...  Lilian Jackson Braun   \n",
       "\n",
       "    yearOfPublication               publisher  \n",
       "55               1999  Arthur A. Levine Books  \n",
       "13               1990           Del Rey Books  \n",
       "12               1990           Del Rey Books  \n",
       "11               1995           Del Rey Books  \n",
       "45               1985        New Amer Library  \n",
       "8                1980        Ballantine Books  \n",
       "10               1983           Del Rey Books  \n",
       "14               1989           Del Rey Books  \n",
       "78               1992             Simon Pulse  \n",
       "47               1999              Jove Books  "
      ]
     },
     "execution_count": 730,
     "metadata": {},
     "output_type": "execute_result"
    }
   ],
   "source": [
    "# Top 10 Rows based on Predicted Rating\n",
    "recommendations.nlargest(10, 'Predictedrating')"
   ]
  },
  {
   "cell_type": "markdown",
   "metadata": {},
   "source": [
    "####  The same logic can also be applied to the entire user dataset(with the ones with 0 ratings) and recommendations can be sent for movies that he has not rated "
   ]
  }
 ],
 "metadata": {
  "kernelspec": {
   "display_name": "Python 3",
   "language": "python",
   "name": "python3"
  },
  "language_info": {
   "codemirror_mode": {
    "name": "ipython",
    "version": 3
   },
   "file_extension": ".py",
   "mimetype": "text/x-python",
   "name": "python",
   "nbconvert_exporter": "python",
   "pygments_lexer": "ipython3",
   "version": "3.7.1"
  }
 },
 "nbformat": 4,
 "nbformat_minor": 2
}
