{
 "cells": [
  {
   "cell_type": "markdown",
   "metadata": {},
   "source": [
    "About Data –\n",
    "\n",
    "In 2013, students of the Statistics class at FSEV UK (Links to an external site.)Links to an external site. were asked to invite their friends to participate in this survey.\n",
    "\n",
    "The data file (responses.csv) consists of 1010 rows and 150 columns (139 integers and 11 categorical).\n",
    "\n",
    " For convenience, the original variable names were shortened in the data file.\n",
    "\n",
    "See the columns.csv file if you want to match the data with the original names.\n",
    "\n",
    "1. The data contain missing values.\n",
    "2. The survey was presented to participants in both electronic and written form.\n",
    "3. The original questionnaire was in Slovak language and was later translated into English.\n",
    "4. All participants were of Slovakian nationality, aged between 15-30.\n",
    "\n",
    "For this Project we are considering 2 sections of data –  Health Habits and Spending Habits\n",
    "\n",
    "##### Health Habits - I live a very healthy lifestyle. Here Strongly disagree 1-2-3-4-5 Strongly agree\n",
    "\n",
    "##### Spending Habits - I save all the money I can.: Strongly disagree 1-2-3-4-5 Strongly agree\n",
    " \n",
    "\n",
    "The Agenda is to find whether Spending Habits and Healthy Lifestyle is related to Gender and Place or not.\n",
    "\n",
    "Steps –\n",
    "\n",
    "#### Load the data and extract the relevant columns.\n",
    "Hint – Relevant Columns will be Finances, Gender, Village-Town and Healthy Eating.\n",
    "\n",
    "1. Explore the data and understand how the data is distributed? \n",
    "2. Is there any outlier or missing value? And Share your insights.\n",
    "3. Create Hypothesis on the following questions –\n",
    "        Is saving money (finances) gender dependant?\n",
    "        Is there any differences in money saving (finances) between people from city or village?\n",
    "        Do Women have a Healthier Lifestyle than Men?\n",
    "        Are Village People Healthier than City People?\n",
    "Perform the required statistical tests to validate/reject the Hypothesis in above step.\n",
    "\n",
    "State your insights and conclusions. "
   ]
  },
  {
   "cell_type": "code",
   "execution_count": 1,
   "metadata": {},
   "outputs": [],
   "source": [
    "import numpy as np\n",
    "import pandas as pd\n",
    "import seaborn as sns\n",
    "import matplotlib.pyplot as plt\n",
    "from scipy import stats"
   ]
  },
  {
   "cell_type": "code",
   "execution_count": 31,
   "metadata": {},
   "outputs": [
    {
     "name": "stdout",
     "output_type": "stream",
     "text": [
      "Shape of the data:  (1010, 4)\n",
      "<class 'pandas.core.frame.DataFrame'>\n",
      "RangeIndex: 1010 entries, 0 to 1009\n",
      "Data columns (total 4 columns):\n",
      "Gender            1004 non-null object\n",
      "Village - town    1006 non-null object\n",
      "Finances          1007 non-null float64\n",
      "Healthy eating    1007 non-null float64\n",
      "dtypes: float64(2), object(2)\n",
      "memory usage: 31.6+ KB\n"
     ]
    }
   ],
   "source": [
    "res = pd.read_csv(\"responses.csv\")\n",
    "data = res[['Gender','Village - town','Finances','Healthy eating']]\n",
    "print(\"Shape of the data: \", data.shape)\n",
    "data.info()"
   ]
  },
  {
   "cell_type": "code",
   "execution_count": 3,
   "metadata": {},
   "outputs": [
    {
     "data": {
      "text/html": [
       "<div>\n",
       "<style scoped>\n",
       "    .dataframe tbody tr th:only-of-type {\n",
       "        vertical-align: middle;\n",
       "    }\n",
       "\n",
       "    .dataframe tbody tr th {\n",
       "        vertical-align: top;\n",
       "    }\n",
       "\n",
       "    .dataframe thead th {\n",
       "        text-align: right;\n",
       "    }\n",
       "</style>\n",
       "<table border=\"1\" class=\"dataframe\">\n",
       "  <thead>\n",
       "    <tr style=\"text-align: right;\">\n",
       "      <th></th>\n",
       "      <th>Finances</th>\n",
       "      <th>Healthy eating</th>\n",
       "    </tr>\n",
       "  </thead>\n",
       "  <tbody>\n",
       "    <tr>\n",
       "      <th>count</th>\n",
       "      <td>1007.000000</td>\n",
       "      <td>1007.000000</td>\n",
       "    </tr>\n",
       "    <tr>\n",
       "      <th>mean</th>\n",
       "      <td>3.023833</td>\n",
       "      <td>3.031778</td>\n",
       "    </tr>\n",
       "    <tr>\n",
       "      <th>std</th>\n",
       "      <td>1.144365</td>\n",
       "      <td>0.936865</td>\n",
       "    </tr>\n",
       "    <tr>\n",
       "      <th>min</th>\n",
       "      <td>1.000000</td>\n",
       "      <td>1.000000</td>\n",
       "    </tr>\n",
       "    <tr>\n",
       "      <th>25%</th>\n",
       "      <td>2.000000</td>\n",
       "      <td>3.000000</td>\n",
       "    </tr>\n",
       "    <tr>\n",
       "      <th>50%</th>\n",
       "      <td>3.000000</td>\n",
       "      <td>3.000000</td>\n",
       "    </tr>\n",
       "    <tr>\n",
       "      <th>75%</th>\n",
       "      <td>4.000000</td>\n",
       "      <td>4.000000</td>\n",
       "    </tr>\n",
       "    <tr>\n",
       "      <th>max</th>\n",
       "      <td>5.000000</td>\n",
       "      <td>5.000000</td>\n",
       "    </tr>\n",
       "  </tbody>\n",
       "</table>\n",
       "</div>"
      ],
      "text/plain": [
       "          Finances  Healthy eating\n",
       "count  1007.000000     1007.000000\n",
       "mean      3.023833        3.031778\n",
       "std       1.144365        0.936865\n",
       "min       1.000000        1.000000\n",
       "25%       2.000000        3.000000\n",
       "50%       3.000000        3.000000\n",
       "75%       4.000000        4.000000\n",
       "max       5.000000        5.000000"
      ]
     },
     "execution_count": 3,
     "metadata": {},
     "output_type": "execute_result"
    }
   ],
   "source": [
    "data.describe()"
   ]
  },
  {
   "cell_type": "code",
   "execution_count": 17,
   "metadata": {},
   "outputs": [
    {
     "name": "stdout",
     "output_type": "stream",
     "text": [
      "Columns with Non Null Data\n",
      "\n",
      "Gender            1004\n",
      "Village - town    1006\n",
      "Finances          1007\n",
      "Healthy eating    1007\n",
      "dtype: int64\n"
     ]
    },
    {
     "data": {
      "text/plain": [
       "(16, 4)"
      ]
     },
     "execution_count": 17,
     "metadata": {},
     "output_type": "execute_result"
    }
   ],
   "source": [
    "print(\"Columns with Non Null Data\\n\")\n",
    "print(data.count())\n",
    "null = data[data.isnull().any(axis =1)]\n",
    "null.shape"
   ]
  },
  {
   "cell_type": "code",
   "execution_count": 24,
   "metadata": {},
   "outputs": [
    {
     "name": "stdout",
     "output_type": "stream",
     "text": [
      "Number of Outliners in Finance column :  0\n",
      "Number of Outliners in Healthy Eating column :  81\n"
     ]
    },
    {
     "name": "stderr",
     "output_type": "stream",
     "text": [
      "C:\\Users\\jaisu\\Anaconda3\\lib\\site-packages\\ipykernel_launcher.py:3: SettingWithCopyWarning: \n",
      "A value is trying to be set on a copy of a slice from a DataFrame\n",
      "\n",
      "See the caveats in the documentation: http://pandas.pydata.org/pandas-docs/stable/indexing.html#indexing-view-versus-copy\n",
      "  This is separate from the ipykernel package so we can avoid doing imports until\n",
      "C:\\Users\\jaisu\\Anaconda3\\lib\\site-packages\\ipykernel_launcher.py:11: SettingWithCopyWarning: \n",
      "A value is trying to be set on a copy of a slice from a DataFrame\n",
      "\n",
      "See the caveats in the documentation: http://pandas.pydata.org/pandas-docs/stable/indexing.html#indexing-view-versus-copy\n",
      "  # This is added back by InteractiveShellApp.init_path()\n"
     ]
    }
   ],
   "source": [
    "# finding Outliners\n",
    "\n",
    "data.sort_values(\"Finances\", ascending = True, inplace = True)\n",
    "q3 = data.Finances.quantile(0.75)\n",
    "q1 = data.Finances.quantile(0.25)\n",
    "iqr = q3-q1\n",
    "LowerBound = q1 - 1.5 * iqr\n",
    "UpperBound = q3 + 1.5 * iqr\n",
    "print(\"Number of Outliners in Finance column : \", ((data.Finances < LowerBound) | (data.Finances > UpperBound)).sum())\n",
    "\n",
    "data.sort_values(\"Healthy eating\", ascending = True, inplace = True)\n",
    "q3 = data[\"Healthy eating\"].quantile(0.75)\n",
    "q1 = data[\"Healthy eating\"].quantile(0.25)\n",
    "iqr = q3-q1\n",
    "LowerBound = q1 - 1.5 * iqr\n",
    "UpperBound = q3 + 1.5 * iqr\n",
    "print(\"Number of Outliners in Healthy Eating column : \", ((data[\"Healthy eating\"] < LowerBound) | (data[\"Healthy eating\"] > UpperBound)).sum())\n"
   ]
  },
  {
   "cell_type": "markdown",
   "metadata": {},
   "source": [
    "## Answer 1 \n",
    "#### 16 Observations have Null Values in the data set \n",
    "#### By observing the Data spread we can conculde that the data is normally distributed\n",
    "#### There are multiple outliners in \"Healthy Eating\" Feature\n"
   ]
  },
  {
   "cell_type": "code",
   "execution_count": null,
   "metadata": {},
   "outputs": [],
   "source": [
    "Cleansing Data : \n",
    "    \n",
    "    "
   ]
  }
 ],
 "metadata": {
  "kernelspec": {
   "display_name": "Python 3",
   "language": "python",
   "name": "python3"
  },
  "language_info": {
   "codemirror_mode": {
    "name": "ipython",
    "version": 3
   },
   "file_extension": ".py",
   "mimetype": "text/x-python",
   "name": "python",
   "nbconvert_exporter": "python",
   "pygments_lexer": "ipython3",
   "version": "3.7.3"
  }
 },
 "nbformat": 4,
 "nbformat_minor": 2
}
