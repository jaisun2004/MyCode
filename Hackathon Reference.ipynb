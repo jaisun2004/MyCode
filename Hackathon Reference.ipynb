{
 "cells": [
  {
   "cell_type": "code",
   "execution_count": null,
   "metadata": {},
   "outputs": [],
   "source": [
    "# importing required libraries and packages: \n",
    "import pandas as pd \n",
    "import numpy as np \n",
    "import seaborn as sns \n",
    "import matplotlib.pyplot as plt \n",
    "%matplotlib inline \n",
    "from sklearn import metrics\n",
    "from sklearn.model_selection import train_test_split"
   ]
  },
  {
   "cell_type": "code",
   "execution_count": null,
   "metadata": {},
   "outputs": [],
   "source": [
    "# REading Data file \n",
    "data = pd.read_csv(\"Advertising.csv\")\n",
    "#without header file\n",
    "df = pd.read_csv('ratings_Electronics.csv', header=None, names = ['user','product', 'rating'], usecols = [0,1,2])\n",
    "#delimiter: \n",
    "data = pd.read_csv(\"students-data-2.csv\", delimiter  = \";\")\n",
    "usersDf =  pd.read_csv('users.csv', sep='__'  , engine='python')\n",
    "#with Space or Tab\n",
    "usersDf =  pd.read_csv('users_4.csv',  sep='\\s+', engine='python')\n",
    "#Multiple Delimiters: \n",
    "usersDf =  pd.read_csv('users_5.csv',  sep='[:,|_]', engine='python')"
   ]
  },
  {
   "cell_type": "code",
   "execution_count": null,
   "metadata": {},
   "outputs": [],
   "source": [
    "# Good Quick Reference: \n",
    "\n",
    "https://thispointer.com/pandas-read-csv-file-to-dataframe-with-custom-delimiter-in-python/\n",
    "    "
   ]
  },
  {
   "cell_type": "code",
   "execution_count": null,
   "metadata": {},
   "outputs": [],
   "source": [
    "# common EDA: \n",
    "\n",
    "data.head(5)\n",
    "data.info()\n"
   ]
  },
  {
   "cell_type": "code",
   "execution_count": null,
   "metadata": {},
   "outputs": [],
   "source": [
    "# Set index: \n",
    "\n",
    "data.index.name = \"Number\"\n",
    "data.head()\n"
   ]
  },
  {
   "cell_type": "code",
   "execution_count": null,
   "metadata": {},
   "outputs": [],
   "source": [
    "# finding Data Types: \n",
    "\n",
    " data.select_dtypes(exclude = 'number').columns\n",
    "    \n",
    "    ## Change Data Type\n",
    "    \n",
    "# Converting the Non numeric feature to Numeric\n",
    "df['Bare Nuclei'] = pd.to_numeric(df['Bare Nuclei'], errors= 'coerce')\n",
    "# All the ? is converted to NAN \n",
    "\n",
    "\n",
    "    "
   ]
  },
  {
   "cell_type": "code",
   "execution_count": null,
   "metadata": {},
   "outputs": [],
   "source": [
    "#Missing Data: \n",
    "    \n",
    "    sns.heatmap(train.isnull(),yticklabels=False,cbar=False,cmap='viridis')\n",
    "    df.isna().sum()\n",
    "    \n",
    "    \n",
    "#replacing the NaN values with mode values\n",
    "df['Bare Nuclei'].fillna(df['Bare Nuclei'].mode()[0], inplace=True)\n",
    "\n",
    "# imputing Missing values in HP with mean values grouped based displacement as displacement is highly correlated to Hp\n",
    "df[\"hp\"] = df.groupby(\"disp\").transform(lambda x: x.fillna(x.mean()))"
   ]
  },
  {
   "cell_type": "code",
   "execution_count": null,
   "metadata": {},
   "outputs": [],
   "source": [
    "# Finding Outliers:\n",
    "\n",
    "#removing outliners\n",
    "q3 = car.quantile(0.75)\n",
    "q1 = car.quantile(0.25)\n",
    "iqr = q3-q1\n",
    "mincap = q1 - 1.5 * iqr\n",
    "maxcap = q3 + 1.5 * iqr\n",
    "print(iqr, mincap, maxcap)\n",
    "car1 = car[~((car < mincap) | (car >maxcap)).any(axis=1)]"
   ]
  },
  {
   "cell_type": "code",
   "execution_count": null,
   "metadata": {},
   "outputs": [],
   "source": [
    "# finding Duplicate records based on ID \n",
    "df.drop_duplicates(keep = 'first', inplace = True)"
   ]
  },
  {
   "cell_type": "code",
   "execution_count": null,
   "metadata": {},
   "outputs": [],
   "source": [
    "# count plot grouped by Class variable: \n",
    "\n",
    "sns.set_style('whitegrid')\n",
    "sns.countplot(x='Survived',data=train,palette='RdBu_r')\n"
   ]
  },
  {
   "cell_type": "code",
   "execution_count": null,
   "metadata": {},
   "outputs": [],
   "source": [
    "# Dist Graph: \n",
    "\n",
    "sns.distplot(train['Age'].dropna(),kde=False,color='darkred',bins=30)\n"
   ]
  },
  {
   "cell_type": "code",
   "execution_count": null,
   "metadata": {},
   "outputs": [],
   "source": [
    "# Joint Plot\n",
    "sns.jointplot(x='percapgdp',y='avgcancerspend',data=insurance)"
   ]
  },
  {
   "cell_type": "code",
   "execution_count": null,
   "metadata": {},
   "outputs": [],
   "source": [
    "# Pair Plot: \n",
    "\n",
    "sns.pairplot( data , diag_kind='kde')\n"
   ]
  },
  {
   "cell_type": "code",
   "execution_count": null,
   "metadata": {},
   "outputs": [],
   "source": [
    "Label Encoder()\n",
    "\n",
    "sklearn LabelEncoder()\n",
    "from sklearn.preprocessing import LabelEncoder\n",
    "lb_make = LabelEncoder()"
   ]
  },
  {
   "cell_type": "code",
   "execution_count": null,
   "metadata": {},
   "outputs": [],
   "source": [
    "# Correlation: \n",
    "\n",
    "data.TV.corr( data.Sales )\n",
    "sns.heatmap( data.corr(), annot=True)\n",
    "data.columns\n"
   ]
  },
  {
   "cell_type": "code",
   "execution_count": null,
   "metadata": {},
   "outputs": [],
   "source": [
    "# Reference for Data Imputaiton / Label Encoder: \n",
    "\n",
    "https://github.com/GreatLearningAIML1/chennai-april19-batch-jaisun2004/blob/master/R3%20Internal%20Lab%20-%20Supervised%20learning.ipynb\n"
   ]
  },
  {
   "cell_type": "code",
   "execution_count": null,
   "metadata": {},
   "outputs": [],
   "source": [
    "# EDA Reference: \n",
    "\n",
    "http://localhost:8888/notebooks/Desktop/Learning%20%26%20Development/Supervised%20LEarning/In%20Class%20Material%20-%207th%20Jun%20to%208th%20Jun/In%20Class%20Material%20-%207th%20Jun%20to%208th%20Jun/Logistic%20Regression%20with%20Python.ipynb\n",
    "        \n",
    "http://localhost:8888/notebooks/Desktop/Learning%20%26%20Development/Supervised%20LEarning/In%20Class%20Material%20-%207th%20Jun%20to%208th%20Jun/In%20Class%20Material%20-%207th%20Jun%20to%208th%20Jun/Linear%20Regression%20-%20Insurance%20Data.ipynb"
   ]
  },
  {
   "cell_type": "code",
   "execution_count": null,
   "metadata": {},
   "outputs": [],
   "source": []
  }
 ],
 "metadata": {
  "kernelspec": {
   "display_name": "Python 3",
   "language": "python",
   "name": "python3"
  },
  "language_info": {
   "codemirror_mode": {
    "name": "ipython",
    "version": 3
   },
   "file_extension": ".py",
   "mimetype": "text/x-python",
   "name": "python",
   "nbconvert_exporter": "python",
   "pygments_lexer": "ipython3",
   "version": "3.7.1"
  }
 },
 "nbformat": 4,
 "nbformat_minor": 2
}
